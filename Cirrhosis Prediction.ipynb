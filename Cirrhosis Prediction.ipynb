{
 "cells": [
  {
   "cell_type": "markdown",
   "id": "2878740f-3e2d-4ffa-89cd-19a5a53f705c",
   "metadata": {},
   "source": [
    "# Cirrhosis Predication \n",
    "Project 4\n",
    "\n",
    "\n",
    "*Christina Brockway*"
   ]
  },
  {
   "cell_type": "markdown",
   "id": "01191a1b-f4ba-4633-8a7e-345db88b9c86",
   "metadata": {},
   "source": [
    "## Business Understanding\n",
    "Cirrohiss - definintion\n",
    "\n"
   ]
  },
  {
   "cell_type": "markdown",
   "id": "7c15a394-d949-45c6-b736-6c74c71ef314",
   "metadata": {},
   "source": [
    "* What is the target? (You are required to complete a classification task for this project)\r",
    "* \n",
    "What does one row represent? (A person? A business? An event? A product?)* \r\n",
    "How many features does the data have* ?\r\n",
    "How many rows are in the datase* t?\r\n",
    "What opportunities exist for dimensionality reduction or feature selection with this datas* et?\r\n",
    "What, if any, challenges do you foresee in cleaning, exploring, or modeling this dataset?"
   ]
  },
  {
   "cell_type": "markdown",
   "id": "75d442e8-8a9e-41b6-a938-ff08dc451da3",
   "metadata": {},
   "source": [
    "### Task: \n",
    "\n",
    "* Explore/clean the data\n",
    "* Exploratory Visualizations\n",
    "    *  Search for trends\n",
    "*  Choose a model\n",
    "    *  Preprocess data\n",
    "    *  Fit and evaluated a default model\n",
    "    *  Extract and visualize the top 10 features using permutation importance\n",
    "    *  Answer: Do these features make sense based on the business case?\n",
    "* Create explanatory visualizations for the most important features\n",
    "    *  Select 2 of the top 10 features from permutation importances and produce explanatory visualizations showing relationship to the target\n",
    "    *  Demonstrate key trends  that are intrest to a stkeholder\n",
    "       - add these to readme\n",
    "       "
   ]
  },
  {
   "cell_type": "markdown",
   "id": "ba11efd7-c93d-451a-8150-069a003cd09a",
   "metadata": {},
   "source": [
    "**Attribute Information**\n",
    "1) ID: unique identifier\n",
    "2) N_Days: number of days between registration and the earlier of death, transplantation, or study analysis time in July 1986\n",
    "3) Status: status of the patient C (censored), CL (censored due to liver tx), or D (death)\n",
    "4) Drug: type of drug D-penicillamine or placebo\n",
    "5) Age: age in [days]\n",
    "6) Sex: M (male) or F (female)\n",
    "7) Ascites: presence of ascites N (No) or Y (Yes)\n",
    "8) Hepatomegaly: presence of hepatomegaly N (No) or Y (Yes)\n",
    "9) Spiders: presence of spiders N (No) or Y (Yes)\n",
    "10) Edema: presence of edema N (no edema and no diuretic therapy for edema), S (edema present without diuretics, or edema resolved by diuretics), or Y (edema despite diuretic therapy)\n",
    "11) Bilirubin: serum bilirubin in [mg/dl]\n",
    "12) Cholesterol: serum cholesterol in [mg/dl]\n",
    "13) Albumin: albumin in [gm/dl]\n",
    "14) Copper: urine copper in [ug/day]\n",
    "15) Alk_Phos: alkaline phosphatase in [U/liter]\n",
    "16) SGOT: SGOT in [U/ml]\n",
    "17) Triglycerides: triglicerides in [mg/dl]\n",
    "18) Platelets: platelets per cubic [ml/1000]\n",
    "19) Prothrombin: prothrombin time in seconds [s]\n",
    "20) Stage: histologic stage of disease (1, 2, 3, or 4)"
   ]
  },
  {
   "cell_type": "markdown",
   "id": "9904a740-c13b-4613-ac73-925e87f461c7",
   "metadata": {},
   "source": [
    "**Using the dataset found on Kaggle:**\n",
    "https://www.kaggle.com/datasets/fedesoriano/cirrhosis-prediction-dataset/\n",
    "\n",
    "**Oringinal dataset:** Fedesoriano. (August 2021). Cirrhosis Prediction Dataset. Retrieved [Date Retrieved] from https://www.kaggle.com/fedesoriano/cirrhosis-prediction-dataset."
   ]
  },
  {
   "cell_type": "markdown",
   "id": "2a69bf03-05a3-4e94-a742-04084c8df807",
   "metadata": {},
   "source": [
    "### Load Dataset"
   ]
  },
  {
   "cell_type": "markdown",
   "id": "d074e6f8-933a-48d9-bfa9-6e6f9dce6f24",
   "metadata": {},
   "source": [
    "#### Imports"
   ]
  },
  {
   "cell_type": "code",
   "execution_count": null,
   "id": "35432aaa-a31a-4ec5-815d-d91cad14301d",
   "metadata": {},
   "outputs": [],
   "source": []
  },
  {
   "cell_type": "code",
   "execution_count": null,
   "id": "106ba517-408b-44e5-8550-309828110c23",
   "metadata": {},
   "outputs": [],
   "source": []
  },
  {
   "cell_type": "code",
   "execution_count": null,
   "id": "2c357bf9-eb42-4f92-9950-7929eb8412e9",
   "metadata": {},
   "outputs": [],
   "source": []
  },
  {
   "cell_type": "code",
   "execution_count": null,
   "id": "e2a0a09d-8366-4245-b826-534af60773ad",
   "metadata": {},
   "outputs": [],
   "source": []
  },
  {
   "cell_type": "code",
   "execution_count": null,
   "id": "1e46565a-da39-4f88-a65f-c3ed08427317",
   "metadata": {},
   "outputs": [],
   "source": []
  },
  {
   "cell_type": "code",
   "execution_count": null,
   "id": "894fb148-e0bf-4f02-9f93-f01ebf4933f9",
   "metadata": {},
   "outputs": [],
   "source": []
  },
  {
   "cell_type": "code",
   "execution_count": null,
   "id": "5289b845-6153-4478-80c8-581f1798fd52",
   "metadata": {},
   "outputs": [],
   "source": []
  },
  {
   "cell_type": "code",
   "execution_count": null,
   "id": "d08ee09d-4100-462b-b15d-0005b692906d",
   "metadata": {},
   "outputs": [],
   "source": []
  },
  {
   "cell_type": "code",
   "execution_count": null,
   "id": "924e0c6f-884f-44b1-b75a-58b8243b9ad5",
   "metadata": {},
   "outputs": [],
   "source": []
  },
  {
   "cell_type": "code",
   "execution_count": null,
   "id": "534ca035-57df-44e9-97ea-744f259585e8",
   "metadata": {},
   "outputs": [],
   "source": []
  },
  {
   "cell_type": "code",
   "execution_count": null,
   "id": "7fc5504b-a2b0-4169-8bf9-aa43d4d44be5",
   "metadata": {},
   "outputs": [],
   "source": []
  },
  {
   "cell_type": "code",
   "execution_count": null,
   "id": "41e041f2-f986-4d6a-9654-81c849fdb28a",
   "metadata": {},
   "outputs": [],
   "source": []
  },
  {
   "cell_type": "code",
   "execution_count": null,
   "id": "29fc121f-649a-433f-aa01-bbf176075d8b",
   "metadata": {},
   "outputs": [],
   "source": []
  }
 ],
 "metadata": {
  "kernelspec": {
   "display_name": "Python (dojo-env)",
   "language": "python",
   "name": "dojo-env"
  },
  "language_info": {
   "codemirror_mode": {
    "name": "ipython",
    "version": 3
   },
   "file_extension": ".py",
   "mimetype": "text/x-python",
   "name": "python",
   "nbconvert_exporter": "python",
   "pygments_lexer": "ipython3",
   "version": "3.10.10"
  },
  "widgets": {
   "application/vnd.jupyter.widget-state+json": {
    "state": {},
    "version_major": 2,
    "version_minor": 0
   }
  }
 },
 "nbformat": 4,
 "nbformat_minor": 5
}
