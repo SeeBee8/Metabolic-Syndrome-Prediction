{
 "cells": [
  {
   "cell_type": "markdown",
   "id": "189b3890-a3b0-4be0-b6e8-66660b0d416e",
   "metadata": {},
   "source": [
    "# Using a Neural Network to Predict Metabolic Syndrome\n",
    "\n",
    "\n",
    "*Chrisitina Brockway*"
   ]
  },
  {
   "cell_type": "markdown",
   "id": "cbd6c83d-ff6d-44d8-832c-997d0765dcd3",
   "metadata": {},
   "source": [
    "### Load Data and Imports"
   ]
  },
  {
   "cell_type": "code",
   "execution_count": 1,
   "id": "16dbdba3-52a9-49da-827a-937c61128f6b",
   "metadata": {},
   "outputs": [],
   "source": [
    "#Basic Imports\n",
    "import numpy as np\n",
    "import matplotlib.pyplot as plt\n",
    "import pandas as pd\n",
    "import seaborn as sns\n",
    "\n",
    "# Preprocessing tools\n",
    "from sklearn.preprocessing import StandardScaler, OneHotEncoder\n",
    "from sklearn.model_selection import train_test_split\n",
    "from sklearn.impute import SimpleImputer\n",
    "from sklearn.pipeline import make_pipeline\n",
    "from sklearn.compose import ColumnTransformer\n",
    "\n",
    "# Deep learning tools\n",
    "import tensorflow as tf\n",
    "from tensorflow import keras\n",
    "from tensorflow.keras.models import Sequential\n",
    "from tensorflow.keras.layers import Dense, Dropout\n",
    "from tensorflow.keras.callbacks import EarlyStopping\n",
    "\n",
    "#Evaluation tools\n",
    "from sklearn.metrics import mean_absolute_error, r2_score, \\\n",
    "mean_squared_error, precision_score, recall_score, accuracy_score, f1_score, \\\n",
    "confusion_matrix, classification_report\n",
    "from tensorflow import metrics\n",
    "\n",
    "from sklearn import set_config, config_context\n",
    "set_config(transform_output='pandas')\n",
    "pd.set_option(\"display.max_rows\", 999)\n",
    "pd.set_option(\"display.max_columns\", 999)\n",
    "\n",
    "# Set random seeds for consistent outcomes\n",
    "keras.backend.clear_session()\n",
    "np.random.seed(42)\n",
    "tf.random.set_seed(42)"
   ]
  },
  {
   "cell_type": "code",
   "execution_count": 2,
   "id": "1382dda6-5b54-4327-9417-f92da43b8de3",
   "metadata": {},
   "outputs": [],
   "source": [
    "# Custom function for plotting each metric\n",
    "def plot_history(history, figsize=(6,12), marker='o'):\n",
    "       \n",
    "    # Get list of metrics from history\n",
    "    metrics = [c for c in history.history if not c.startswith('val_')]\n",
    "    \n",
    "    ## Separate row for each metric\n",
    "    fig, axes = plt.subplots(nrows=len(metrics),figsize=figsize)\n",
    "    \n",
    "    # For each metric\n",
    "    for i, metric_name in enumerate(metrics):\n",
    "    \n",
    "        # Get the axis for the current metric\n",
    "        ax = axes[i]\n",
    "    \n",
    "        # Get metric from history.history\n",
    "        metric_values = history.history[metric_name]\n",
    "        # Get epochs from history\n",
    "        epochs = history.epoch\n",
    "    \n",
    "        # Plot the training metric\n",
    "        ax.plot(epochs, metric_values, label=metric_name, marker=marker)\n",
    "    \n",
    "        ## Check if val_{metric} exists. if so, plot:\n",
    "        val_metric_name = f\"val_{metric_name}\"\n",
    "        if val_metric_name in history.history:\n",
    "            # Get validation values and plot\n",
    "            metric_values = history.history[val_metric_name]\n",
    "            ax.plot(epochs,metric_values,label=val_metric_name, marker=marker)\n",
    "    \n",
    "        # Final subplot adjustments \n",
    "        ax.legend()\n",
    "        ax.set_title(metric_name)\n",
    "    fig.tight_layout()\n",
    "\n",
    "    return fig, axes\n"
   ]
  },
  {
   "cell_type": "code",
   "execution_count": 3,
   "id": "23c6907d-da6a-4780-9667-b3c150f21be4",
   "metadata": {},
   "outputs": [
    {
     "data": {
      "text/html": [
       "<div>\n",
       "<style scoped>\n",
       "    .dataframe tbody tr th:only-of-type {\n",
       "        vertical-align: middle;\n",
       "    }\n",
       "\n",
       "    .dataframe tbody tr th {\n",
       "        vertical-align: top;\n",
       "    }\n",
       "\n",
       "    .dataframe thead th {\n",
       "        text-align: right;\n",
       "    }\n",
       "</style>\n",
       "<table border=\"1\" class=\"dataframe\">\n",
       "  <thead>\n",
       "    <tr style=\"text-align: right;\">\n",
       "      <th></th>\n",
       "      <th>Age</th>\n",
       "      <th>Sex</th>\n",
       "      <th>Marital</th>\n",
       "      <th>Income</th>\n",
       "      <th>Race</th>\n",
       "      <th>Waist</th>\n",
       "      <th>BMI</th>\n",
       "      <th>AlbRating</th>\n",
       "      <th>UricAcid</th>\n",
       "      <th>Glucose</th>\n",
       "      <th>HDL</th>\n",
       "      <th>Triglycerides</th>\n",
       "      <th>MetS</th>\n",
       "    </tr>\n",
       "    <tr>\n",
       "      <th>seqn</th>\n",
       "      <th></th>\n",
       "      <th></th>\n",
       "      <th></th>\n",
       "      <th></th>\n",
       "      <th></th>\n",
       "      <th></th>\n",
       "      <th></th>\n",
       "      <th></th>\n",
       "      <th></th>\n",
       "      <th></th>\n",
       "      <th></th>\n",
       "      <th></th>\n",
       "      <th></th>\n",
       "    </tr>\n",
       "  </thead>\n",
       "  <tbody>\n",
       "    <tr>\n",
       "      <th>62161</th>\n",
       "      <td>22</td>\n",
       "      <td>Male</td>\n",
       "      <td>Single</td>\n",
       "      <td>8200.0</td>\n",
       "      <td>White</td>\n",
       "      <td>81.0</td>\n",
       "      <td>23.3</td>\n",
       "      <td>0</td>\n",
       "      <td>4.9</td>\n",
       "      <td>92</td>\n",
       "      <td>41</td>\n",
       "      <td>84</td>\n",
       "      <td>No MetSyn</td>\n",
       "    </tr>\n",
       "    <tr>\n",
       "      <th>62164</th>\n",
       "      <td>44</td>\n",
       "      <td>Female</td>\n",
       "      <td>Married</td>\n",
       "      <td>4500.0</td>\n",
       "      <td>White</td>\n",
       "      <td>80.1</td>\n",
       "      <td>23.2</td>\n",
       "      <td>0</td>\n",
       "      <td>4.5</td>\n",
       "      <td>82</td>\n",
       "      <td>28</td>\n",
       "      <td>56</td>\n",
       "      <td>No MetSyn</td>\n",
       "    </tr>\n",
       "    <tr>\n",
       "      <th>62169</th>\n",
       "      <td>21</td>\n",
       "      <td>Male</td>\n",
       "      <td>Single</td>\n",
       "      <td>800.0</td>\n",
       "      <td>Asian</td>\n",
       "      <td>69.6</td>\n",
       "      <td>20.1</td>\n",
       "      <td>0</td>\n",
       "      <td>5.4</td>\n",
       "      <td>107</td>\n",
       "      <td>43</td>\n",
       "      <td>78</td>\n",
       "      <td>No MetSyn</td>\n",
       "    </tr>\n",
       "    <tr>\n",
       "      <th>62172</th>\n",
       "      <td>43</td>\n",
       "      <td>Female</td>\n",
       "      <td>Single</td>\n",
       "      <td>2000.0</td>\n",
       "      <td>Black</td>\n",
       "      <td>120.4</td>\n",
       "      <td>33.3</td>\n",
       "      <td>0</td>\n",
       "      <td>5.0</td>\n",
       "      <td>104</td>\n",
       "      <td>73</td>\n",
       "      <td>141</td>\n",
       "      <td>No MetSyn</td>\n",
       "    </tr>\n",
       "    <tr>\n",
       "      <th>62177</th>\n",
       "      <td>51</td>\n",
       "      <td>Male</td>\n",
       "      <td>Married</td>\n",
       "      <td>NaN</td>\n",
       "      <td>Asian</td>\n",
       "      <td>81.1</td>\n",
       "      <td>20.1</td>\n",
       "      <td>0</td>\n",
       "      <td>5.0</td>\n",
       "      <td>95</td>\n",
       "      <td>43</td>\n",
       "      <td>126</td>\n",
       "      <td>No MetSyn</td>\n",
       "    </tr>\n",
       "  </tbody>\n",
       "</table>\n",
       "</div>"
      ],
      "text/plain": [
       "       Age     Sex  Marital  Income   Race  Waist   BMI  AlbRating  UricAcid  \\\n",
       "seqn                                                                           \n",
       "62161   22    Male   Single  8200.0  White   81.0  23.3          0       4.9   \n",
       "62164   44  Female  Married  4500.0  White   80.1  23.2          0       4.5   \n",
       "62169   21    Male   Single   800.0  Asian   69.6  20.1          0       5.4   \n",
       "62172   43  Female   Single  2000.0  Black  120.4  33.3          0       5.0   \n",
       "62177   51    Male  Married     NaN  Asian   81.1  20.1          0       5.0   \n",
       "\n",
       "       Glucose  HDL  Triglycerides       MetS  \n",
       "seqn                                           \n",
       "62161       92   41             84  No MetSyn  \n",
       "62164       82   28             56  No MetSyn  \n",
       "62169      107   43             78  No MetSyn  \n",
       "62172      104   73            141  No MetSyn  \n",
       "62177       95   43            126  No MetSyn  "
      ]
     },
     "execution_count": 3,
     "metadata": {},
     "output_type": "execute_result"
    }
   ],
   "source": [
    "df= pd.read_csv('data/clean_MetS.csv', index_col='seqn')\n",
    "df.head()"
   ]
  },
  {
   "cell_type": "code",
   "execution_count": 4,
   "id": "b171b8d8-7b72-442c-bdbc-670de92d9c04",
   "metadata": {},
   "outputs": [
    {
     "data": {
      "text/plain": [
       "0"
      ]
     },
     "execution_count": 4,
     "metadata": {},
     "output_type": "execute_result"
    }
   ],
   "source": [
    "df.duplicated().sum()"
   ]
  },
  {
   "cell_type": "code",
   "execution_count": 5,
   "id": "c771f320-5712-4964-804c-efcf3330705e",
   "metadata": {},
   "outputs": [
    {
     "data": {
      "text/plain": [
       "Age                0\n",
       "Sex                0\n",
       "Marital          208\n",
       "Income           117\n",
       "Race               0\n",
       "Waist             85\n",
       "BMI               26\n",
       "AlbRating          0\n",
       "UricAcid           0\n",
       "Glucose            0\n",
       "HDL                0\n",
       "Triglycerides      0\n",
       "MetS               0\n",
       "dtype: int64"
      ]
     },
     "execution_count": 5,
     "metadata": {},
     "output_type": "execute_result"
    }
   ],
   "source": [
    "df.isna().sum()"
   ]
  },
  {
   "cell_type": "markdown",
   "id": "5f1de17f-5f59-4ab3-8ec6-d8f3f45984c8",
   "metadata": {},
   "source": [
    "*  Since target is string will need need to replce values with 0 for no metabolic syndrome and 1 for Metabolic syndrome"
   ]
  },
  {
   "cell_type": "code",
   "execution_count": 6,
   "id": "bf2a797d-5e94-408c-a60c-a64de570748c",
   "metadata": {},
   "outputs": [
    {
     "data": {
      "text/plain": [
       "0    1579\n",
       "1     822\n",
       "Name: MetS, dtype: int64"
      ]
     },
     "execution_count": 6,
     "metadata": {},
     "output_type": "execute_result"
    }
   ],
   "source": [
    "df['MetS']=df['MetS'].replace({'No MetSyn': 0, 'MetSyn': 1})\n",
    "df['MetS'].value_counts()"
   ]
  },
  {
   "cell_type": "markdown",
   "id": "ed59e2d1-798e-4f0d-8149-079298dcccdb",
   "metadata": {},
   "source": [
    "### Preprocess Data for Machine Learning"
   ]
  },
  {
   "cell_type": "code",
   "execution_count": 7,
   "id": "c71349dc-61d1-4193-a945-ef132295e840",
   "metadata": {},
   "outputs": [],
   "source": [
    "# Train Test Split\n",
    "X= df.drop(columns='MetS')\n",
    "y=df['MetS']\n",
    "\n",
    "X_train, X_test, y_train, y_test = train_test_split(X,y)"
   ]
  },
  {
   "cell_type": "code",
   "execution_count": 8,
   "id": "ab4892b4-acb5-4ffa-b6f5-25a5d5c38cf7",
   "metadata": {},
   "outputs": [
    {
     "data": {
      "text/html": [
       "<div>\n",
       "<style scoped>\n",
       "    .dataframe tbody tr th:only-of-type {\n",
       "        vertical-align: middle;\n",
       "    }\n",
       "\n",
       "    .dataframe tbody tr th {\n",
       "        vertical-align: top;\n",
       "    }\n",
       "\n",
       "    .dataframe thead th {\n",
       "        text-align: right;\n",
       "    }\n",
       "</style>\n",
       "<table border=\"1\" class=\"dataframe\">\n",
       "  <thead>\n",
       "    <tr style=\"text-align: right;\">\n",
       "      <th></th>\n",
       "      <th>Age</th>\n",
       "      <th>Sex</th>\n",
       "      <th>Marital</th>\n",
       "      <th>Income</th>\n",
       "      <th>Race</th>\n",
       "      <th>Waist</th>\n",
       "      <th>BMI</th>\n",
       "      <th>AlbRating</th>\n",
       "      <th>UricAcid</th>\n",
       "      <th>Glucose</th>\n",
       "      <th>HDL</th>\n",
       "      <th>Triglycerides</th>\n",
       "    </tr>\n",
       "    <tr>\n",
       "      <th>seqn</th>\n",
       "      <th></th>\n",
       "      <th></th>\n",
       "      <th></th>\n",
       "      <th></th>\n",
       "      <th></th>\n",
       "      <th></th>\n",
       "      <th></th>\n",
       "      <th></th>\n",
       "      <th></th>\n",
       "      <th></th>\n",
       "      <th></th>\n",
       "      <th></th>\n",
       "    </tr>\n",
       "  </thead>\n",
       "  <tbody>\n",
       "    <tr>\n",
       "      <th>63211</th>\n",
       "      <td>46</td>\n",
       "      <td>Female</td>\n",
       "      <td>Married</td>\n",
       "      <td>8200.0</td>\n",
       "      <td>White</td>\n",
       "      <td>124.0</td>\n",
       "      <td>40.8</td>\n",
       "      <td>0</td>\n",
       "      <td>3.3</td>\n",
       "      <td>140</td>\n",
       "      <td>53</td>\n",
       "      <td>198</td>\n",
       "    </tr>\n",
       "    <tr>\n",
       "      <th>70548</th>\n",
       "      <td>34</td>\n",
       "      <td>Male</td>\n",
       "      <td>Separated</td>\n",
       "      <td>3500.0</td>\n",
       "      <td>MexAmerican</td>\n",
       "      <td>86.2</td>\n",
       "      <td>24.5</td>\n",
       "      <td>0</td>\n",
       "      <td>6.1</td>\n",
       "      <td>114</td>\n",
       "      <td>83</td>\n",
       "      <td>60</td>\n",
       "    </tr>\n",
       "    <tr>\n",
       "      <th>64722</th>\n",
       "      <td>33</td>\n",
       "      <td>Female</td>\n",
       "      <td>Married</td>\n",
       "      <td>3500.0</td>\n",
       "      <td>MexAmerican</td>\n",
       "      <td>75.0</td>\n",
       "      <td>25.0</td>\n",
       "      <td>0</td>\n",
       "      <td>3.4</td>\n",
       "      <td>97</td>\n",
       "      <td>44</td>\n",
       "      <td>60</td>\n",
       "    </tr>\n",
       "    <tr>\n",
       "      <th>69237</th>\n",
       "      <td>49</td>\n",
       "      <td>Female</td>\n",
       "      <td>Married</td>\n",
       "      <td>9000.0</td>\n",
       "      <td>Hispanic</td>\n",
       "      <td>95.7</td>\n",
       "      <td>33.3</td>\n",
       "      <td>0</td>\n",
       "      <td>2.7</td>\n",
       "      <td>89</td>\n",
       "      <td>51</td>\n",
       "      <td>139</td>\n",
       "    </tr>\n",
       "    <tr>\n",
       "      <th>65286</th>\n",
       "      <td>30</td>\n",
       "      <td>Male</td>\n",
       "      <td>Married</td>\n",
       "      <td>9000.0</td>\n",
       "      <td>Asian</td>\n",
       "      <td>75.7</td>\n",
       "      <td>21.9</td>\n",
       "      <td>0</td>\n",
       "      <td>7.1</td>\n",
       "      <td>81</td>\n",
       "      <td>58</td>\n",
       "      <td>394</td>\n",
       "    </tr>\n",
       "  </tbody>\n",
       "</table>\n",
       "</div>"
      ],
      "text/plain": [
       "       Age     Sex    Marital  Income         Race  Waist   BMI  AlbRating  \\\n",
       "seqn                                                                         \n",
       "63211   46  Female    Married  8200.0        White  124.0  40.8          0   \n",
       "70548   34    Male  Separated  3500.0  MexAmerican   86.2  24.5          0   \n",
       "64722   33  Female    Married  3500.0  MexAmerican   75.0  25.0          0   \n",
       "69237   49  Female    Married  9000.0     Hispanic   95.7  33.3          0   \n",
       "65286   30    Male    Married  9000.0        Asian   75.7  21.9          0   \n",
       "\n",
       "       UricAcid  Glucose  HDL  Triglycerides  \n",
       "seqn                                          \n",
       "63211       3.3      140   53            198  \n",
       "70548       6.1      114   83             60  \n",
       "64722       3.4       97   44             60  \n",
       "69237       2.7       89   51            139  \n",
       "65286       7.1       81   58            394  "
      ]
     },
     "execution_count": 8,
     "metadata": {},
     "output_type": "execute_result"
    }
   ],
   "source": [
    "X_train.head()"
   ]
  },
  {
   "cell_type": "code",
   "execution_count": 9,
   "id": "0f401401-3606-41c7-9e16-c546c4b4b206",
   "metadata": {},
   "outputs": [],
   "source": [
    "cat_col= X_train.select_dtypes('object').columns\n",
    "num_col= X_train.select_dtypes('number').columns"
   ]
  },
  {
   "cell_type": "code",
   "execution_count": 10,
   "id": "7bafedd0-7399-41c7-b14e-ed7d7ed95c9e",
   "metadata": {},
   "outputs": [],
   "source": [
    "#Instantiate the transformers\n",
    "from sklearn.impute import KNNImputer\n",
    "scaler=StandardScaler()\n",
    "ohe = OneHotEncoder(handle_unknown='ignore', sparse_output=False)\n",
    "knnimpute= KNNImputer(n_neighbors=3)\n",
    "oheimpute = SimpleImputer(strategy='constant', fill_value='none')"
   ]
  },
  {
   "cell_type": "code",
   "execution_count": 11,
   "id": "31405190-dfc8-4583-b668-bf064bc6b402",
   "metadata": {},
   "outputs": [],
   "source": [
    "#Create pipelines\n",
    "num_pipe= make_pipeline(knnimpute, scaler)\n",
    "cat_pipe= make_pipeline(oheimpute, ohe)"
   ]
  },
  {
   "cell_type": "code",
   "execution_count": 12,
   "id": "53a919f9-129f-4307-bc1c-b92afa316091",
   "metadata": {},
   "outputs": [],
   "source": [
    "num_tuple= (\"Numeric\", num_pipe, num_col)\n",
    "cat_tuple=(\"Catagorical\", cat_pipe, cat_col)\n",
    "\n",
    "preprocessor = ColumnTransformer([num_tuple, cat_tuple], remainder='passthrough')"
   ]
  },
  {
   "cell_type": "code",
   "execution_count": 13,
   "id": "251ad8a7-e4f7-4686-9cb8-c0b60831305b",
   "metadata": {},
   "outputs": [],
   "source": [
    "preprocessor.fit(X_train)\n",
    "X_train_tf=preprocessor.transform(X_train)\n",
    "X_test_tf=preprocessor.transform(X_test)"
   ]
  },
  {
   "cell_type": "markdown",
   "id": "302f378c-6211-432c-9c02-af9a4bb8247c",
   "metadata": {},
   "source": [
    "### Build Model 1"
   ]
  },
  {
   "cell_type": "code",
   "execution_count": 14,
   "id": "698bf111-65e8-4a24-84f2-af0bc65acd3e",
   "metadata": {},
   "outputs": [
    {
     "data": {
      "text/plain": [
       "23"
      ]
     },
     "execution_count": 14,
     "metadata": {},
     "output_type": "execute_result"
    }
   ],
   "source": [
    "# Save the number of features we have as our input shape\n",
    "input_shape = X_train_tf.shape[1]\n",
    "input_shape"
   ]
  },
  {
   "cell_type": "code",
   "execution_count": 15,
   "id": "406466e8-8043-40f8-bbdc-c56c702e9153",
   "metadata": {},
   "outputs": [
    {
     "name": "stdout",
     "output_type": "stream",
     "text": [
      "Model: \"sequential\"\n",
      "_________________________________________________________________\n",
      " Layer (type)                Output Shape              Param #   \n",
      "=================================================================\n",
      " dense (Dense)               (None, 20)                480       \n",
      "                                                                 \n",
      " dense_1 (Dense)             (None, 10)                210       \n",
      "                                                                 \n",
      " dense_2 (Dense)             (None, 1)                 11        \n",
      "                                                                 \n",
      "=================================================================\n",
      "Total params: 701\n",
      "Trainable params: 701\n",
      "Non-trainable params: 0\n",
      "_________________________________________________________________\n"
     ]
    }
   ],
   "source": [
    "# Step 1 Build Network Structure\n",
    "\n",
    "# Sequential model\n",
    "model = keras.Sequential()\n",
    "\n",
    "model.add(Dense(20, input_dim=input_shape, activation ='relu'))\n",
    "model.add(Dense(10, activation='relu'))\n",
    "model.add(Dense(1, activation = 'sigmoid'))\n",
    "\n",
    "#Step 2: compile\n",
    "model.compile(loss = 'bce', optimizer = 'adam'\n",
    "              ,metrics=['accuracy'])\n",
    "model.summary()\n"
   ]
  },
  {
   "cell_type": "code",
   "execution_count": 16,
   "id": "c6507bf8-38bc-4eeb-bec3-f494ff7cb06c",
   "metadata": {},
   "outputs": [],
   "source": [
    "# Use Early Stopping callback\n",
    "early_stop = EarlyStopping(monitor='val_accuracy', patience=5)"
   ]
  },
  {
   "cell_type": "code",
   "execution_count": 17,
   "id": "8d1c00ac-c5df-44e9-99f2-484e66ce2486",
   "metadata": {},
   "outputs": [
    {
     "name": "stdout",
     "output_type": "stream",
     "text": [
      "Epoch 1/50\n",
      "45/45 [==============================] - 1s 9ms/step - loss: 0.6156 - accuracy: 0.6729 - val_loss: 0.5872 - val_accuracy: 0.6500\n",
      "Epoch 2/50\n",
      "45/45 [==============================] - 0s 2ms/step - loss: 0.5261 - accuracy: 0.7028 - val_loss: 0.5109 - val_accuracy: 0.7111\n",
      "Epoch 3/50\n",
      "45/45 [==============================] - 0s 2ms/step - loss: 0.4683 - accuracy: 0.7521 - val_loss: 0.4569 - val_accuracy: 0.7750\n",
      "Epoch 4/50\n",
      "45/45 [==============================] - 0s 2ms/step - loss: 0.4281 - accuracy: 0.7979 - val_loss: 0.4135 - val_accuracy: 0.8000\n",
      "Epoch 5/50\n",
      "45/45 [==============================] - 0s 2ms/step - loss: 0.3982 - accuracy: 0.8160 - val_loss: 0.3812 - val_accuracy: 0.8361\n",
      "Epoch 6/50\n",
      "45/45 [==============================] - 0s 2ms/step - loss: 0.3785 - accuracy: 0.8229 - val_loss: 0.3615 - val_accuracy: 0.8333\n",
      "Epoch 7/50\n",
      "45/45 [==============================] - 0s 2ms/step - loss: 0.3644 - accuracy: 0.8299 - val_loss: 0.3511 - val_accuracy: 0.8389\n",
      "Epoch 8/50\n",
      "45/45 [==============================] - 0s 2ms/step - loss: 0.3542 - accuracy: 0.8396 - val_loss: 0.3427 - val_accuracy: 0.8389\n",
      "Epoch 9/50\n",
      "45/45 [==============================] - 0s 2ms/step - loss: 0.3451 - accuracy: 0.8451 - val_loss: 0.3359 - val_accuracy: 0.8556\n",
      "Epoch 10/50\n",
      "45/45 [==============================] - 0s 2ms/step - loss: 0.3375 - accuracy: 0.8486 - val_loss: 0.3301 - val_accuracy: 0.8500\n",
      "Epoch 11/50\n",
      "45/45 [==============================] - 0s 2ms/step - loss: 0.3301 - accuracy: 0.8569 - val_loss: 0.3257 - val_accuracy: 0.8528\n",
      "Epoch 12/50\n",
      "45/45 [==============================] - 0s 3ms/step - loss: 0.3231 - accuracy: 0.8604 - val_loss: 0.3216 - val_accuracy: 0.8611\n",
      "Epoch 13/50\n",
      "45/45 [==============================] - 0s 2ms/step - loss: 0.3170 - accuracy: 0.8604 - val_loss: 0.3190 - val_accuracy: 0.8528\n",
      "Epoch 14/50\n",
      "45/45 [==============================] - 0s 2ms/step - loss: 0.3131 - accuracy: 0.8639 - val_loss: 0.3166 - val_accuracy: 0.8583\n",
      "Epoch 15/50\n",
      "45/45 [==============================] - 0s 2ms/step - loss: 0.3064 - accuracy: 0.8660 - val_loss: 0.3153 - val_accuracy: 0.8556\n",
      "Epoch 16/50\n",
      "45/45 [==============================] - 0s 2ms/step - loss: 0.3005 - accuracy: 0.8687 - val_loss: 0.3137 - val_accuracy: 0.8528\n",
      "Epoch 17/50\n",
      "45/45 [==============================] - 0s 2ms/step - loss: 0.2965 - accuracy: 0.8687 - val_loss: 0.3110 - val_accuracy: 0.8556\n"
     ]
    }
   ],
   "source": [
    "history = model.fit(X_train_tf, y_train,\n",
    "                        validation_split=.2,\n",
    "                        epochs=50, callbacks = [early_stop])"
   ]
  },
  {
   "cell_type": "code",
   "execution_count": 18,
   "id": "053345a7-c9dc-411b-b95e-30121afe7736",
   "metadata": {},
   "outputs": [
    {
     "data": {
      "text/plain": [
       "(<Figure size 600x1200 with 2 Axes>,\n",
       " array([<Axes: title={'center': 'loss'}>,\n",
       "        <Axes: title={'center': 'accuracy'}>], dtype=object))"
      ]
     },
     "execution_count": 18,
     "metadata": {},
     "output_type": "execute_result"
    },
    {
     "data": {
      "image/png": "[encoded data removed]",
      "text/plain": [
       "<Figure size 600x1200 with 2 Axes>"
      ]
     },
     "metadata": {},
     "output_type": "display_data"
    }
   ],
   "source": [
    "# Apply the custom function plot_history() to see how your model is doing\n",
    "plot_history(history)"
   ]
  },
  {
   "cell_type": "code",
   "execution_count": 19,
   "id": "35216dab-5bd3-49ab-9ef7-1df9d18745cc",
   "metadata": {},
   "outputs": [
    {
     "name": "stdout",
     "output_type": "stream",
     "text": [
      "19/19 [==============================] - 0s 2ms/step - loss: 0.3580 - accuracy: 0.8319\n"
     ]
    },
    {
     "data": {
      "text/plain": [
       "{'loss': 0.35801735520362854, 'accuracy': 0.8319467306137085}"
      ]
     },
     "execution_count": 19,
     "metadata": {},
     "output_type": "execute_result"
    }
   ],
   "source": [
    "result=model.evaluate(X_test_tf, y_test, return_dict=True)\n",
    "result"
   ]
  },
  {
   "cell_type": "code",
   "execution_count": 20,
   "id": "499f6d6e-5646-4d30-b66c-1aca6676e6b3",
   "metadata": {},
   "outputs": [
    {
     "name": "stdout",
     "output_type": "stream",
     "text": [
      "19/19 [==============================] - 0s 1ms/step\n",
      "              precision    recall  f1-score   support\n",
      "\n",
      "           0       0.87      0.87      0.87       397\n",
      "           1       0.75      0.75      0.75       204\n",
      "\n",
      "    accuracy                           0.83       601\n",
      "   macro avg       0.81      0.81      0.81       601\n",
      "weighted avg       0.83      0.83      0.83       601\n",
      "\n"
     ]
    },
    {
     "data": {
      "image/png": "[encoded data removed]",
      "text/plain": [
       "<Figure size 640x480 with 2 Axes>"
      ]
     },
     "metadata": {},
     "output_type": "display_data"
    }
   ],
   "source": [
    "#evaluate with sklearn metrics\n",
    "test_preds = model.predict(X_test_tf).round()\n",
    "print(classification_report(y_test, test_preds))\n",
    "conf_mat = confusion_matrix(y_test, test_preds)\n",
    "sns.heatmap(conf_mat, annot=True, fmt='g');"
   ]
  },
  {
   "cell_type": "markdown",
   "id": "cf54bd69-4c53-4ffb-92c2-6de24f012d1e",
   "metadata": {},
   "source": [
    "## Model 2 Tune Parameters with Keras Tuner \n",
    "\n",
    "Source:\n",
    "https://keras.io/guides/keras_tuner/getting_started/"
   ]
  },
  {
   "cell_type": "code",
   "execution_count": 21,
   "id": "30fefa4e-b219-440c-a0b7-ce65868ac5f6",
   "metadata": {},
   "outputs": [],
   "source": [
    "from keras_tuner import HyperParameters as hp\n",
    "import keras_tuner as kt\n"
   ]
  },
  {
   "cell_type": "code",
   "execution_count": 22,
   "id": "1e49ff83-e25d-4a4a-b4b6-26d06637e144",
   "metadata": {},
   "outputs": [],
   "source": [
    "# Step 1 Build Network Structure\n",
    "\n",
    "# Sequential model\n",
    "def build_model(hp):\n",
    "    units = hp.Int(\"units\", min_value=32, max_value=512, step=32)\n",
    "    opitimizers = hp.Choice('optimizer', ['rmsprop','nadam','adam'])\n",
    "    dropout= hp.Boolean('dropout')   \n",
    "   \n",
    "    model2 = Sequential()\n",
    "    model2.add(Dense(units=units, activation ='relu'))\n",
    "  \n",
    "    if dropout:\n",
    "           model2.add(Dropout(.2))\n",
    "                  \n",
    "    model2.add(Dense(1, activation = 'sigmoid'))\n",
    "\n",
    "#Step 2: compile\n",
    "    model2.compile(loss = 'bce', optimizer = opitimizers,\n",
    "                      metrics=['accuracy'])\n",
    "    \n",
    "    return model2"
   ]
  },
  {
   "cell_type": "code",
   "execution_count": 23,
   "id": "c2e57e0e-fc0a-4407-a5c3-71dc603f707b",
   "metadata": {},
   "outputs": [],
   "source": [
    "model2= build_model(kt.HyperParameters())"
   ]
  },
  {
   "cell_type": "code",
   "execution_count": 24,
   "id": "495a68be-e59e-458a-a852-27e6870543e7",
   "metadata": {},
   "outputs": [],
   "source": [
    "# Use Early Stopping callback\n",
    "early_stop = EarlyStopping(monitor='val_accuracy', patience=5)"
   ]
  },
  {
   "cell_type": "code",
   "execution_count": 25,
   "id": "c7f8aba6-95b3-40e1-bf57-c12bfe2c84c7",
   "metadata": {},
   "outputs": [
    {
     "name": "stdout",
     "output_type": "stream",
     "text": [
      "Epoch 1/50\n",
      "45/45 [==============================] - 1s 8ms/step - loss: 0.5977 - accuracy: 0.6958 - val_loss: 0.5092 - val_accuracy: 0.7944\n",
      "Epoch 2/50\n",
      "45/45 [==============================] - 0s 2ms/step - loss: 0.4545 - accuracy: 0.8014 - val_loss: 0.4217 - val_accuracy: 0.8194\n",
      "Epoch 3/50\n",
      "45/45 [==============================] - 0s 2ms/step - loss: 0.3963 - accuracy: 0.8257 - val_loss: 0.3826 - val_accuracy: 0.8417\n",
      "Epoch 4/50\n",
      "45/45 [==============================] - 0s 2ms/step - loss: 0.3691 - accuracy: 0.8354 - val_loss: 0.3645 - val_accuracy: 0.8361\n",
      "Epoch 5/50\n",
      "45/45 [==============================] - 0s 2ms/step - loss: 0.3522 - accuracy: 0.8417 - val_loss: 0.3514 - val_accuracy: 0.8444\n",
      "Epoch 6/50\n",
      "45/45 [==============================] - 0s 2ms/step - loss: 0.3409 - accuracy: 0.8444 - val_loss: 0.3482 - val_accuracy: 0.8306\n",
      "Epoch 7/50\n",
      "45/45 [==============================] - 0s 2ms/step - loss: 0.3331 - accuracy: 0.8493 - val_loss: 0.3414 - val_accuracy: 0.8361\n",
      "Epoch 8/50\n",
      "45/45 [==============================] - 0s 2ms/step - loss: 0.3262 - accuracy: 0.8562 - val_loss: 0.3381 - val_accuracy: 0.8306\n",
      "Epoch 9/50\n",
      "45/45 [==============================] - 0s 2ms/step - loss: 0.3210 - accuracy: 0.8569 - val_loss: 0.3349 - val_accuracy: 0.8361\n",
      "Epoch 10/50\n",
      "45/45 [==============================] - 0s 2ms/step - loss: 0.3157 - accuracy: 0.8611 - val_loss: 0.3349 - val_accuracy: 0.8333\n"
     ]
    }
   ],
   "source": [
    "history2 = model2.fit(X_train_tf, y_train,\n",
    "                        validation_split=.2,\n",
    "                        epochs=50, callbacks = [early_stop])"
   ]
  },
  {
   "cell_type": "code",
   "execution_count": 26,
   "id": "095e0462-65bb-4461-b10b-743afd19cdf4",
   "metadata": {},
   "outputs": [
    {
     "data": {
      "text/plain": [
       "(<Figure size 600x1200 with 2 Axes>,\n",
       " array([<Axes: title={'center': 'loss'}>,\n",
       "        <Axes: title={'center': 'accuracy'}>], dtype=object))"
      ]
     },
     "execution_count": 26,
     "metadata": {},
     "output_type": "execute_result"
    },
    {
     "data": {
      "image/png": "[encoded data removed]",
      "text/plain": [
       "<Figure size 600x1200 with 2 Axes>"
      ]
     },
     "metadata": {},
     "output_type": "display_data"
    }
   ],
   "source": [
    "# Apply the custom function plot_history() to see how your model is doing\n",
    "plot_history(history2)"
   ]
  },
  {
   "cell_type": "code",
   "execution_count": 27,
   "id": "f6c24d8e-ba9b-44ba-a0bc-2802fd0eb8e1",
   "metadata": {},
   "outputs": [
    {
     "name": "stdout",
     "output_type": "stream",
     "text": [
      "19/19 [==============================] - 0s 1ms/step - loss: 0.3576 - accuracy: 0.8286\n"
     ]
    },
    {
     "data": {
      "text/plain": [
       "{'loss': 0.3576037287712097, 'accuracy': 0.8286189436912537}"
      ]
     },
     "execution_count": 27,
     "metadata": {},
     "output_type": "execute_result"
    }
   ],
   "source": [
    "result=model2.evaluate(X_test_tf, y_test, return_dict=True)\n",
    "result"
   ]
  },
  {
   "cell_type": "code",
   "execution_count": 28,
   "id": "0518cf51-d0e9-490a-8435-e2c9057e4da4",
   "metadata": {},
   "outputs": [
    {
     "name": "stdout",
     "output_type": "stream",
     "text": [
      "19/19 [==============================] - 0s 1ms/step\n",
      "              precision    recall  f1-score   support\n",
      "\n",
      "           0       0.85      0.90      0.87       397\n",
      "           1       0.79      0.68      0.73       204\n",
      "\n",
      "    accuracy                           0.83       601\n",
      "   macro avg       0.82      0.79      0.80       601\n",
      "weighted avg       0.83      0.83      0.83       601\n",
      "\n"
     ]
    },
    {
     "data": {
      "image/png": "[encoded data removed]",
      "text/plain": [
       "<Figure size 640x480 with 2 Axes>"
      ]
     },
     "metadata": {},
     "output_type": "display_data"
    }
   ],
   "source": [
    "#evaluate with sklearn metrics\n",
    "test_preds2 = model2.predict(X_test_tf).round()\n",
    "print(classification_report(y_test, test_preds2))\n",
    "conf_mat = confusion_matrix(y_test, test_preds2)\n",
    "sns.heatmap(conf_mat, annot=True, fmt='g');"
   ]
  },
  {
   "cell_type": "markdown",
   "id": "e2953422-e9a8-4fd3-b1a8-bfd2aa264fad",
   "metadata": {},
   "source": [
    "#  Evaluate Model"
   ]
  },
  {
   "cell_type": "markdown",
   "id": "abced5d6-d60a-4a76-b4fa-c2f9a43ad178",
   "metadata": {},
   "source": [
    "Both models performed about the same.  The plot shows there is a point (different for both models) where the model becomes overfit.  Perhaps using a lower patience during early stopping would prevent this. I would choose model 1 because the models perform approximately the same, but model 1 is less complicated."
   ]
  },
  {
   "cell_type": "code",
   "execution_count": null,
   "id": "f608d940-edb9-4ea0-b8ba-ef6eccc55747",
   "metadata": {},
   "outputs": [],
   "source": []
  },
  {
   "cell_type": "code",
   "execution_count": null,
   "id": "4e4c89f8-8ff6-4a95-94a8-1a6756f59a59",
   "metadata": {},
   "outputs": [],
   "source": []
  },
  {
   "cell_type": "code",
   "execution_count": null,
   "id": "f2a4442e-c403-457e-8fee-dab432142b69",
   "metadata": {},
   "outputs": [],
   "source": []
  },
  {
   "cell_type": "code",
   "execution_count": null,
   "id": "615e89a5-e365-4b9e-8f65-55194e79bbb6",
   "metadata": {},
   "outputs": [],
   "source": []
  },
  {
   "cell_type": "code",
   "execution_count": null,
   "id": "e1632c76-dd4d-47be-abd7-b0269898fa1a",
   "metadata": {},
   "outputs": [],
   "source": []
  }
 ],
 "metadata": {
  "kernelspec": {
   "display_name": "Python (dojo-env)",
   "language": "python",
   "name": "dojo-env"
  },
  "language_info": {
   "codemirror_mode": {
    "name": "ipython",
    "version": 3
   },
   "file_extension": ".py",
   "mimetype": "text/x-python",
   "name": "python",
   "nbconvert_exporter": "python",
   "pygments_lexer": "ipython3",
   "version": "3.10.10"
  },
  "widgets": {
   "application/vnd.jupyter.widget-state+json": {
    "state": {},
    "version_major": 2,
    "version_minor": 0
   }
  }
 },
 "nbformat": 4,
 "nbformat_minor": 5
}
