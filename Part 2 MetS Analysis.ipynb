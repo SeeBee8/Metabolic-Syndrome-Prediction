{
 "cells": [
  {
   "cell_type": "markdown",
   "id": "7309792b-8fdc-4b08-96c0-4add0a77819e",
   "metadata": {},
   "source": [
    "# Metabolic Syndrome Prediction \n",
    "Part 2\n",
    "\n",
    "*Christina Brockway*"
   ]
  },
  {
   "cell_type": "markdown",
   "id": "4f231442-b04b-4f21-80c2-896c6040afd8",
   "metadata": {},
   "source": [
    "## Business Understanding\n",
    "**Stakeholder Needs:** To look at common risk factors and use a machine learning model to predict the likelihood of someone having metabolic syndrome."
   ]
  },
  {
   "cell_type": "markdown",
   "id": "b0c797e2-f5df-407e-9e51-4cd9c41f8ea6",
   "metadata": {},
   "source": [
    "**Metabolic Syndrome Prediction**\n",
    "\n",
    "Other Names: Syndrome X, Insulin Resistance Syndrome, Dysmetabolic Syndrome\n",
    "Definition: A cluster of conditions that cause and increased risk for heart disease, stroke, and diabetes\n",
    "According to the Mayo Clinic, metabolic syndrome will cause an increase in the risk of heart disease, stroke, and type 2 diabetes. This syndrome is caused by the presence of multiple risk factors such as body mass index, waist circumference, cholesterol levels, age, and other various factors. The National Heart, Lung, and Blood Institue says the syndrome is found in about 1 in 3 adults making it farily common. A diagnosis of metabolic syndrome, although eye opening, doesn't mean patients are definitively getting diabetes or having a stroke. With the right diet and healthy lifestyle changes, metabolic syndrome is preventable, thus showing the importantance of identifying it.\n",
    "\n",
    "The goal of this projest is to use a series of risk factors, and create a model that can predict the likihood of metabolic syndrome in patients. The dataset provided came from the NHANES initiative. It contains variables including: waist circumference, triglyerades, cholesterol levels, race, income, uric acid levels, age, gender, marital status, body mass index, urine albumin grades and rates, and blood glucose levels.\n",
    "\n",
    "The target for this dataset is the metabolic syndrome feature. SEQN will be set as the index as it is a unique identifier. There are 2401 records representing a person and their attributes of which there are 13. There are some columns that have null values needing to be imputed. The feature 'UrAlbCr' was not defined and and assumption was made as to what is being represented based on the NIH and Cleavland Clinic websites. Aside from \"UrAlbCr\" not being defined, there don't appear to be any chanllenges with the dataset that would interfere with modeling.\n"
   ]
  },
  {
   "cell_type": "markdown",
   "id": "d2830291-a9e3-4004-a5d0-f3c5a84b49e1",
   "metadata": {},
   "source": [
    "**Task:**\n",
    "\n",
    "Choose at least one feature selection or feature engineering method to apply to the data and compare the models’  performance with and without engineering.\n",
    "\n",
    "*Apply clustering**\n",
    "    * select the appropriate number of clusters\n",
    "    * use the clustering object to get predicted cluster labels for the training and test data. \n",
    "    *  Concatenate/combine these clusters with the original feature\n",
    "    *  Only fit KMeans on the training data \n",
    "        -  use kmeans.predict(X_test) to create cluster labels for the test data."
   ]
  },
  {
   "cell_type": "markdown",
   "id": "d70711cd-a635-4a6c-903b-e1b78cf25ae7",
   "metadata": {},
   "source": [
    "<style type=\"text/css\">\n",
    ".tg  {border-collapse:collapse;border-spacing:0;}\n",
    ".tg td{border-color:black;border-style:solid;border-width:1px;font-family:Arial, sans-serif;font-size:14px;\n",
    "  overflow:hidden;padding:10px 5px;word-break:normal;}\n",
    ".tg th{border-color:black;border-style:solid;border-width:1px;font-family:Arial, sans-serif;font-size:14px;\n",
    "  font-weight:normal;overflow:hidden;padding:10px 5px;word-break:normal;}\n",
    ".tg .tg-0pky{border-color:inherit;text-align:left;vertical-align:top}\n",
    "</style>\n",
    "<table class=\"tg\">\n",
    "<thead>\n",
    "  <tr>\n",
    "    <th class=\"tg-0pky\" colspan=\"5\"><span style=\"font-weight:bold;font-style:italic\">Data Dictionary for Metabolic Syndrome Dataset </span></th>\n",
    "  </tr>\n",
    "</thead>\n",
    "<tbody>\n",
    "  <tr>\n",
    "    <td class=\"tg-0pky\"><span style=\"font-weight:bold\">Feature</span></td>\n",
    "    <td class=\"tg-0pky\"><span style=\"font-weight:bold\">dtype</span></td>\n",
    "    <td class=\"tg-0pky\"><span style=\"font-weight:bold\">Expected Range</span></td>\n",
    "    <td class=\"tg-0pky\"><span style=\"font-weight:bold\">Definition</span></td>\n",
    "    <td class=\"tg-0pky\"><span style=\"font-weight:bold;font-style:italic\">cat, num, ord</span></td>\n",
    "  </tr>\n",
    "  <tr>\n",
    "    <td class=\"tg-0pky\"><span style=\"font-weight:bold;font-style:italic\">seqn</span></td>\n",
    "    <td class=\"tg-0pky\">int</td>\n",
    "    <td class=\"tg-0pky\">#</td>\n",
    "    <td class=\"tg-0pky\">sequential identification number</td>\n",
    "    <td class=\"tg-0pky\"><span style=\"font-weight:bold;font-style:italic\">Index?</span></td>\n",
    "  </tr>\n",
    "  <tr>\n",
    "    <td class=\"tg-0pky\">Age</td>\n",
    "    <td class=\"tg-0pky\">int</td>\n",
    "    <td class=\"tg-0pky\">20-80</td>\n",
    "    <td class=\"tg-0pky\">age of individual<br></td>\n",
    "    <td class=\"tg-0pky\">num</td>\n",
    "  </tr>\n",
    "  <tr>\n",
    "    <td class=\"tg-0pky\">Sex</td>\n",
    "    <td class=\"tg-0pky\">str</td>\n",
    "    <td class=\"tg-0pky\">Male<br>Female</td>\n",
    "    <td class=\"tg-0pky\">gender of individual</td>\n",
    "    <td class=\"tg-0pky\">cat</td>\n",
    "  </tr>\n",
    "  <tr>\n",
    "    <td class=\"tg-0pky\">Marital</td>\n",
    "    <td class=\"tg-0pky\">str</td>\n",
    "    <td class=\"tg-0pky\">Married<br>Single<br>Divorced<br>Widowed<br>Separated</td>\n",
    "    <td class=\"tg-0pky\">marital status</td>\n",
    "    <td class=\"tg-0pky\">cat</td>\n",
    "  </tr>\n",
    "  <tr>\n",
    "    <td class=\"tg-0pky\">Income</td>\n",
    "    <td class=\"tg-0pky\">int</td>\n",
    "    <td class=\"tg-0pky\">#</td>\n",
    "    <td class=\"tg-0pky\">income information</td>\n",
    "    <td class=\"tg-0pky\">num</td>\n",
    "  </tr>\n",
    "  <tr>\n",
    "    <td class=\"tg-0pky\">Race</td>\n",
    "    <td class=\"tg-0pky\">str</td>\n",
    "    <td class=\"tg-0pky\">Other<br>MexAmerican<br>Hispanic<br>Asian<br>Black<br>White</td>\n",
    "    <td class=\"tg-0pky\">race of individual</td>\n",
    "    <td class=\"tg-0pky\">cat</td>\n",
    "  </tr>\n",
    "  <tr>\n",
    "    <td class=\"tg-0pky\">WaistCirc</td>\n",
    "    <td class=\"tg-0pky\">float</td>\n",
    "    <td class=\"tg-0pky\">risk factor(cm): Men, Women<br>low: &lt; 94m,&nbsp;&nbsp;80w<br>high: 94-102m, 80-88w<br>very high: &gt; 102m, 88w</td>\n",
    "    <td class=\"tg-0pky\">Circumference of the waist</td>\n",
    "    <td class=\"tg-0pky\">num</td>\n",
    "  </tr>\n",
    "  <tr>\n",
    "    <td class=\"tg-0pky\">BMI</td>\n",
    "    <td class=\"tg-0pky\">float</td>\n",
    "    <td class=\"tg-0pky\">Underweight:&lt; 18.5<br>Normal:18.5-24.9<br>Overweight: 25-29.9<br>Obese: &gt; 30<br></td>\n",
    "    <td class=\"tg-0pky\">body mass index, a measurement of body composition using height and weight </td>\n",
    "    <td class=\"tg-0pky\">num</td>\n",
    "  </tr>\n",
    "  <tr>\n",
    "    <td class=\"tg-0pky\">Albuminuria</td>\n",
    "    <td class=\"tg-0pky\">int</td>\n",
    "    <td class=\"tg-0pky\">0<br>1<br>2</td>\n",
    "    <td class=\"tg-0pky\">aka proteinuria<br>a scale grading levels of albumin in urine<br><span style=\"font-weight:bold\">A1: &lt;10-30 Normal or mildly elevated </span><br><span style=\"font-weight:bold\">A2:  30-300 moderately elevated</span><br><span style=\"font-weight:bold\">A3:  &gt;300 albuminuria</span></td>\n",
    "    <td class=\"tg-0pky\">ord<br></td>\n",
    "  </tr>\n",
    "  <tr>\n",
    "    <td class=\"tg-0pky\">UrAlbCr</td>\n",
    "    <td class=\"tg-0pky\">float</td>\n",
    "    <td class=\"tg-0pky\">A1: &lt;30 Normal or mildly elevated <br>A2:  30-300 moderately elevated<br>A3:  &gt;300 albuminuria<br></td>\n",
    "    <td class=\"tg-0pky\">UACR - ratio of the levels of albumin and creatin in urine</td>\n",
    "    <td class=\"tg-0pky\">num</td>\n",
    "  </tr>\n",
    "  <tr>\n",
    "    <td class=\"tg-0pky\">UricAcid</td>\n",
    "    <td class=\"tg-0pky\">float</td>\n",
    "    <td class=\"tg-0pky\">Normal female: &gt;6mg/dL<br>Normal male: &gt;7 mg/dL</td>\n",
    "    <td class=\"tg-0pky\">measures amount of uric acid in blood<br>Uric acid is a normal body waste product<br>too high may mean kidneys are not working properly</td>\n",
    "    <td class=\"tg-0pky\">num</td>\n",
    "  </tr>\n",
    "  <tr>\n",
    "    <td class=\"tg-0pky\">BloodGlucose</td>\n",
    "    <td class=\"tg-0pky\">int</td>\n",
    "    <td class=\"tg-0pky\">Normal 80-130mg/dL</td>\n",
    "    <td class=\"tg-0pky\">Level of glucose in blood<br>too low or too high indicated blood sugar control issues</td>\n",
    "    <td class=\"tg-0pky\">num</td>\n",
    "  </tr>\n",
    "  <tr>\n",
    "    <td class=\"tg-0pky\">HDL</td>\n",
    "    <td class=\"tg-0pky\">int</td>\n",
    "    <td class=\"tg-0pky\">Normal male:  &lt; 40mg/dL <br>Normal female: &lt;50mg/dL</td>\n",
    "    <td class=\"tg-0pky\">\"good\" cholesterol levels in blood<br>a lower HDL means higher risk for heart attack</td>\n",
    "    <td class=\"tg-0pky\">num</td>\n",
    "  </tr>\n",
    "  <tr>\n",
    "    <td class=\"tg-0pky\">Triglycerides</td>\n",
    "    <td class=\"tg-0pky\">int</td>\n",
    "    <td class=\"tg-0pky\">150-199 mg/dL borderline<br>200-499 mg/dL high<br>&gt;500 mg/dL very high</td>\n",
    "    <td class=\"tg-0pky\">amount of triglycerides in blood<br>high levels means risk for stroke or heart attack</td>\n",
    "    <td class=\"tg-0pky\">num</td>\n",
    "  </tr>\n",
    "  <tr>\n",
    "    <td class=\"tg-0pky\"><span style=\"font-weight:bold;font-style:italic\">MetabolicSyndrome</span></td>\n",
    "    <td class=\"tg-0pky\">str</td>\n",
    "    <td class=\"tg-0pky\">No MetSyn<br>MetSyn</td>\n",
    "    <td class=\"tg-0pky\">does the individual have metabolic syndrome</td>\n",
    "    <td class=\"tg-0pky\"><span style=\"font-weight:bold;font-style:italic\">target</span></td>\n",
    "  </tr>\n",
    "</tbody>\n",
    "</table>"
   ]
  },
  {
   "cell_type": "markdown",
   "id": "7eb97ec6-9ded-4e7e-a6f0-04e4540f17ab",
   "metadata": {},
   "source": [
    "**Sources:**\n",
    "\n",
    "https://www.urmc.rochester.edu/encyclopedia/\n",
    "\n",
    "https://www.nhlbi.nih.gov/health/metabolic-syndrome/diagnosis\n",
    "\n",
    "https://my.clevelandclinic.org/health/diseases/10783-metabolic-syndrome\n",
    "\n",
    "https://www.kidney.org/content/kidney-failure-risk-factor-urine-albumin-to-creatinine-ration-uacr\n",
    "\n",
    "Using the dataset found on Dataworld: https://data.world/informatics-edu/metabolic-syndrome-prediction"
   ]
  },
  {
   "cell_type": "markdown",
   "id": "49870e5e-317c-4b3d-bff7-5b2d12563456",
   "metadata": {},
   "source": [
    "## Imports and Load Data"
   ]
  },
  {
   "cell_type": "code",
   "execution_count": 27,
   "id": "e7d705cb-f617-4de2-a82a-af8c6d70784c",
   "metadata": {},
   "outputs": [],
   "source": [
    "# Imports\n",
    "import numpy as np\n",
    "import matplotlib.pyplot as plt\n",
    "import pandas as pd\n",
    "from sklearn.preprocessing import StandardScaler\n",
    "from sklearn.cluster import KMeans\n",
    "from sklearn.neighbors import NearestNeighbors\n",
    "from sklearn.metrics import silhouette_score\n",
    "from sklearn.tree import DecisionTreeClassifier\n",
    "\n",
    "\n",
    "##Preprocessing\n",
    "from sklearn.model_selection import train_test_split\n",
    "from sklearn.metrics import accuracy_score\n",
    "from sklearn.pipeline import make_pipeline\n",
    "from sklearn.impute import SimpleImputer\n",
    "from sklearn.preprocessing import StandardScaler, OneHotEncoder, OrdinalEncoder\n",
    "from sklearn.compose import make_column_transformer,  make_column_selector, ColumnTransformer\n",
    "from sklearn import set_config\n",
    "\n",
    "\n",
    "#Select features\n",
    "from sklearn.feature_selection import SelectFromModel\n",
    "from sklearn.inspection import permutation_importance\n",
    "\n",
    "#Metrics\n",
    "from sklearn.metrics import accuracy_score, recall_score, precision_score, f1_score, classification_report, confusion_matrix, ConfusionMatrixDisplay\n",
    "\n",
    "\n",
    "set_config(transform_output='pandas')\n"
   ]
  },
  {
   "cell_type": "code",
   "execution_count": 26,
   "id": "0af9f5a4-00aa-436b-8b59-35a658d8b249",
   "metadata": {},
   "outputs": [],
   "source": [
    "#Define Custom Functions\n",
    "\n",
    "def classification_metrics(y_true, y_pred, label='',\n",
    "                           output_dict=False, figsize=(8,4),\n",
    "                           normalize='true', cmap='Blues',\n",
    "                           colorbar=False):\n",
    "    # Get the classification report\n",
    "    report = classification_report(y_true, y_pred)\n",
    "    ## Print header and report\n",
    "    header = \"-\"*70\n",
    "    print(header, f\" Classification Metrics: {label}\", header, sep='\\n')\n",
    "    print(report)\n",
    "    ## CONFUSION MATRICES SUBPLOTS\n",
    "    fig, axes = plt.subplots(ncols=2, figsize=figsize)\n",
    "    # create a confusion matrix  of raw counts\n",
    "    ConfusionMatrixDisplay.from_predictions(y_true, y_pred,\n",
    "                normalize=None, cmap='gist_gray', colorbar=colorbar,\n",
    "                ax = axes[0],);\n",
    "    axes[0].set_title(\"Raw Counts\")\n",
    "    # create a confusion matrix with the test data\n",
    "    ConfusionMatrixDisplay.from_predictions(y_true, y_pred,\n",
    "                normalize=normalize, cmap=cmap, colorbar=colorbar,\n",
    "                ax = axes[1]);\n",
    "    axes[1].set_title(\"Normalized Confusion Matrix\")\n",
    "    # Adjust layout and show figure\n",
    "    fig.tight_layout()\n",
    "    plt.show()\n",
    "    # Return dictionary of classification_report\n",
    "    if output_dict==True:\n",
    "        report_dict = classification_report(y_true, y_pred, output_dict=True)\n",
    "        return report_dict\n",
    "\n",
    "\n",
    "def evaluate_classification(model, X_train, y_train, X_test, y_test,\n",
    "                         figsize=(6,4), normalize='true', output_dict = False,\n",
    "                            cmap_train='Blues', cmap_test=\"Reds\",colorbar=False):\n",
    "    # Get predictions for training data\n",
    "    y_train_pred = model.predict(X_train)\n",
    "    # Call the helper function to obtain regression metrics for training data\n",
    "    results_train = classification_metrics(y_train, y_train_pred, #verbose = verbose,\n",
    "                                     output_dict=True, figsize=figsize,\n",
    "                                         colorbar=colorbar, cmap=cmap_train,\n",
    "                                     label='Training Data')\n",
    "    print()\n",
    "    # Get predictions for test data\n",
    "    y_test_pred = model.predict(X_test)\n",
    "    # Call the helper function to obtain regression metrics for test data\n",
    "    results_test = classification_metrics(y_test, y_test_pred, #verbose = verbose,\n",
    "                                  output_dict=True,figsize=figsize,\n",
    "                                         colorbar=colorbar, cmap=cmap_test,\n",
    "                                    label='Test Data' )\n",
    "    if output_dict == True:\n",
    "        # Store results in a dataframe if ouput_frame is True\n",
    "        results_dict = {'train':results_train,\n",
    "                    'test': results_test}\n",
    "        return results_dict\n"
   ]
  },
  {
   "cell_type": "code",
   "execution_count": 2,
   "id": "026f54a0-39aa-4f68-9c92-4b7b666b27ae",
   "metadata": {},
   "outputs": [
    {
     "data": {
      "text/html": [
       "<div>\n",
       "<style scoped>\n",
       "    .dataframe tbody tr th:only-of-type {\n",
       "        vertical-align: middle;\n",
       "    }\n",
       "\n",
       "    .dataframe tbody tr th {\n",
       "        vertical-align: top;\n",
       "    }\n",
       "\n",
       "    .dataframe thead th {\n",
       "        text-align: right;\n",
       "    }\n",
       "</style>\n",
       "<table border=\"1\" class=\"dataframe\">\n",
       "  <thead>\n",
       "    <tr style=\"text-align: right;\">\n",
       "      <th></th>\n",
       "      <th>Age</th>\n",
       "      <th>Sex</th>\n",
       "      <th>Marital</th>\n",
       "      <th>Income</th>\n",
       "      <th>Race</th>\n",
       "      <th>Waist</th>\n",
       "      <th>BMI</th>\n",
       "      <th>AlbRating</th>\n",
       "      <th>UricAcid</th>\n",
       "      <th>Glucose</th>\n",
       "      <th>HDL</th>\n",
       "      <th>Triglycerides</th>\n",
       "      <th>MetS</th>\n",
       "    </tr>\n",
       "    <tr>\n",
       "      <th>seqn</th>\n",
       "      <th></th>\n",
       "      <th></th>\n",
       "      <th></th>\n",
       "      <th></th>\n",
       "      <th></th>\n",
       "      <th></th>\n",
       "      <th></th>\n",
       "      <th></th>\n",
       "      <th></th>\n",
       "      <th></th>\n",
       "      <th></th>\n",
       "      <th></th>\n",
       "      <th></th>\n",
       "    </tr>\n",
       "  </thead>\n",
       "  <tbody>\n",
       "    <tr>\n",
       "      <th>62161</th>\n",
       "      <td>22</td>\n",
       "      <td>Male</td>\n",
       "      <td>Single</td>\n",
       "      <td>8200.0</td>\n",
       "      <td>White</td>\n",
       "      <td>81.0</td>\n",
       "      <td>23.3</td>\n",
       "      <td>0</td>\n",
       "      <td>4.9</td>\n",
       "      <td>92</td>\n",
       "      <td>41</td>\n",
       "      <td>84</td>\n",
       "      <td>No MetSyn</td>\n",
       "    </tr>\n",
       "    <tr>\n",
       "      <th>62164</th>\n",
       "      <td>44</td>\n",
       "      <td>Female</td>\n",
       "      <td>Married</td>\n",
       "      <td>4500.0</td>\n",
       "      <td>White</td>\n",
       "      <td>80.1</td>\n",
       "      <td>23.2</td>\n",
       "      <td>0</td>\n",
       "      <td>4.5</td>\n",
       "      <td>82</td>\n",
       "      <td>28</td>\n",
       "      <td>56</td>\n",
       "      <td>No MetSyn</td>\n",
       "    </tr>\n",
       "    <tr>\n",
       "      <th>62169</th>\n",
       "      <td>21</td>\n",
       "      <td>Male</td>\n",
       "      <td>Single</td>\n",
       "      <td>800.0</td>\n",
       "      <td>Asian</td>\n",
       "      <td>69.6</td>\n",
       "      <td>20.1</td>\n",
       "      <td>0</td>\n",
       "      <td>5.4</td>\n",
       "      <td>107</td>\n",
       "      <td>43</td>\n",
       "      <td>78</td>\n",
       "      <td>No MetSyn</td>\n",
       "    </tr>\n",
       "    <tr>\n",
       "      <th>62172</th>\n",
       "      <td>43</td>\n",
       "      <td>Female</td>\n",
       "      <td>Single</td>\n",
       "      <td>2000.0</td>\n",
       "      <td>Black</td>\n",
       "      <td>120.4</td>\n",
       "      <td>33.3</td>\n",
       "      <td>0</td>\n",
       "      <td>5.0</td>\n",
       "      <td>104</td>\n",
       "      <td>73</td>\n",
       "      <td>141</td>\n",
       "      <td>No MetSyn</td>\n",
       "    </tr>\n",
       "    <tr>\n",
       "      <th>62177</th>\n",
       "      <td>51</td>\n",
       "      <td>Male</td>\n",
       "      <td>Married</td>\n",
       "      <td>NaN</td>\n",
       "      <td>Asian</td>\n",
       "      <td>81.1</td>\n",
       "      <td>20.1</td>\n",
       "      <td>0</td>\n",
       "      <td>5.0</td>\n",
       "      <td>95</td>\n",
       "      <td>43</td>\n",
       "      <td>126</td>\n",
       "      <td>No MetSyn</td>\n",
       "    </tr>\n",
       "  </tbody>\n",
       "</table>\n",
       "</div>"
      ],
      "text/plain": [
       "       Age     Sex  Marital  Income   Race  Waist   BMI  AlbRating  UricAcid  \\\n",
       "seqn                                                                           \n",
       "62161   22    Male   Single  8200.0  White   81.0  23.3          0       4.9   \n",
       "62164   44  Female  Married  4500.0  White   80.1  23.2          0       4.5   \n",
       "62169   21    Male   Single   800.0  Asian   69.6  20.1          0       5.4   \n",
       "62172   43  Female   Single  2000.0  Black  120.4  33.3          0       5.0   \n",
       "62177   51    Male  Married     NaN  Asian   81.1  20.1          0       5.0   \n",
       "\n",
       "       Glucose  HDL  Triglycerides       MetS  \n",
       "seqn                                           \n",
       "62161       92   41             84  No MetSyn  \n",
       "62164       82   28             56  No MetSyn  \n",
       "62169      107   43             78  No MetSyn  \n",
       "62172      104   73            141  No MetSyn  \n",
       "62177       95   43            126  No MetSyn  "
      ]
     },
     "execution_count": 2,
     "metadata": {},
     "output_type": "execute_result"
    }
   ],
   "source": [
    "df= pd.read_csv('data/clean_MetS.csv')\n",
    "data = df.set_index('seqn')\n",
    "data.head()"
   ]
  },
  {
   "cell_type": "code",
   "execution_count": 3,
   "id": "002617eb-7193-464c-9d5a-b9320920e7cd",
   "metadata": {},
   "outputs": [
    {
     "name": "stdout",
     "output_type": "stream",
     "text": [
      "<class 'pandas.core.frame.DataFrame'>\n",
      "Int64Index: 2401 entries, 62161 to 71915\n",
      "Data columns (total 13 columns):\n",
      " #   Column         Non-Null Count  Dtype  \n",
      "---  ------         --------------  -----  \n",
      " 0   Age            2401 non-null   int64  \n",
      " 1   Sex            2401 non-null   object \n",
      " 2   Marital        2193 non-null   object \n",
      " 3   Income         2284 non-null   float64\n",
      " 4   Race           2401 non-null   object \n",
      " 5   Waist          2316 non-null   float64\n",
      " 6   BMI            2375 non-null   float64\n",
      " 7   AlbRating      2401 non-null   int64  \n",
      " 8   UricAcid       2401 non-null   float64\n",
      " 9   Glucose        2401 non-null   int64  \n",
      " 10  HDL            2401 non-null   int64  \n",
      " 11  Triglycerides  2401 non-null   int64  \n",
      " 12  MetS           2401 non-null   object \n",
      "dtypes: float64(4), int64(5), object(4)\n",
      "memory usage: 262.6+ KB\n"
     ]
    }
   ],
   "source": [
    "data.info()"
   ]
  },
  {
   "cell_type": "markdown",
   "id": "1095bed9-503b-4aa6-ba6d-2bfca00e2f73",
   "metadata": {},
   "source": [
    "### Check for nulls "
   ]
  },
  {
   "cell_type": "code",
   "execution_count": 4,
   "id": "353acb17-274f-4eef-bfdb-c705ec744f41",
   "metadata": {},
   "outputs": [
    {
     "data": {
      "text/plain": [
       "Age                0\n",
       "Sex                0\n",
       "Marital          208\n",
       "Income           117\n",
       "Race               0\n",
       "Waist             85\n",
       "BMI               26\n",
       "AlbRating          0\n",
       "UricAcid           0\n",
       "Glucose            0\n",
       "HDL                0\n",
       "Triglycerides      0\n",
       "MetS               0\n",
       "dtype: int64"
      ]
     },
     "execution_count": 4,
     "metadata": {},
     "output_type": "execute_result"
    }
   ],
   "source": [
    "data.isna().sum()"
   ]
  },
  {
   "cell_type": "code",
   "execution_count": 5,
   "id": "c58959ee-9974-4c5f-be79-62cf93564db2",
   "metadata": {},
   "outputs": [],
   "source": [
    "seed=42\n",
    "X=df.drop(columns=['MetS'], axis=1)\n",
    "y=df['MetS']\n",
    "\n",
    "X_train, X_test, y_train, y_test = train_test_split(X, y, random_state=seed)"
   ]
  },
  {
   "cell_type": "code",
   "execution_count": 6,
   "id": "b5c94fa6-c39a-4847-866c-3dd59db384ae",
   "metadata": {},
   "outputs": [
    {
     "data": {
      "text/html": [
       "<div>\n",
       "<style scoped>\n",
       "    .dataframe tbody tr th:only-of-type {\n",
       "        vertical-align: middle;\n",
       "    }\n",
       "\n",
       "    .dataframe tbody tr th {\n",
       "        vertical-align: top;\n",
       "    }\n",
       "\n",
       "    .dataframe thead th {\n",
       "        text-align: right;\n",
       "    }\n",
       "</style>\n",
       "<table border=\"1\" class=\"dataframe\">\n",
       "  <thead>\n",
       "    <tr style=\"text-align: right;\">\n",
       "      <th></th>\n",
       "      <th>seqn</th>\n",
       "      <th>Age</th>\n",
       "      <th>Sex</th>\n",
       "      <th>Marital</th>\n",
       "      <th>Income</th>\n",
       "      <th>Race</th>\n",
       "      <th>Waist</th>\n",
       "      <th>BMI</th>\n",
       "      <th>AlbRating</th>\n",
       "      <th>UricAcid</th>\n",
       "      <th>Glucose</th>\n",
       "      <th>HDL</th>\n",
       "      <th>Triglycerides</th>\n",
       "    </tr>\n",
       "  </thead>\n",
       "  <tbody>\n",
       "    <tr>\n",
       "      <th>263</th>\n",
       "      <td>63211</td>\n",
       "      <td>46</td>\n",
       "      <td>Female</td>\n",
       "      <td>Married</td>\n",
       "      <td>8200.0</td>\n",
       "      <td>White</td>\n",
       "      <td>124.0</td>\n",
       "      <td>40.8</td>\n",
       "      <td>0</td>\n",
       "      <td>3.3</td>\n",
       "      <td>140</td>\n",
       "      <td>53</td>\n",
       "      <td>198</td>\n",
       "    </tr>\n",
       "  </tbody>\n",
       "</table>\n",
       "</div>"
      ],
      "text/plain": [
       "      seqn  Age     Sex  Marital  Income   Race  Waist   BMI  AlbRating  \\\n",
       "263  63211   46  Female  Married  8200.0  White  124.0  40.8          0   \n",
       "\n",
       "     UricAcid  Glucose  HDL  Triglycerides  \n",
       "263       3.3      140   53            198  "
      ]
     },
     "execution_count": 6,
     "metadata": {},
     "output_type": "execute_result"
    }
   ],
   "source": [
    "X_train.head(1)"
   ]
  },
  {
   "cell_type": "markdown",
   "id": "78c97caf-4b02-4987-8a7b-fc88a6e280e5",
   "metadata": {},
   "source": [
    "### Preprocessing"
   ]
  },
  {
   "cell_type": "code",
   "execution_count": 7,
   "id": "d41a6365-e3e5-4bc0-9590-57eece356a92",
   "metadata": {},
   "outputs": [],
   "source": [
    "#Instantiate the transformers\n",
    "from sklearn.impute import KNNImputer\n",
    "scaler=StandardScaler()\n",
    "ohe = OneHotEncoder(handle_unknown='ignore', sparse_output=False)\n",
    "knnimpute= KNNImputer(n_neighbors=3)"
   ]
  },
  {
   "cell_type": "code",
   "execution_count": 8,
   "id": "bdc24f6e-cf88-4b01-8bf0-a8824d02ca4e",
   "metadata": {},
   "outputs": [],
   "source": [
    "ordcols = X_train[['AlbRating']].columns\n",
    "catcols = X_train.select_dtypes('object').columns\n",
    "numcols = X_train.select_dtypes('number').drop(columns=ordcols).columns"
   ]
  },
  {
   "cell_type": "code",
   "execution_count": 9,
   "id": "a827d3d6-3b61-48b0-b3a2-125d9ebec62c",
   "metadata": {},
   "outputs": [
    {
     "data": {
      "text/plain": [
       "('numeric',\n",
       " Pipeline(steps=[('knnimputer', KNNImputer(n_neighbors=3)),\n",
       "                 ('standardscaler', StandardScaler())]),\n",
       " Index(['seqn', 'Age', 'Income', 'Waist', 'BMI', 'UricAcid', 'Glucose', 'HDL',\n",
       "        'Triglycerides'],\n",
       "       dtype='object'))"
      ]
     },
     "execution_count": 9,
     "metadata": {},
     "output_type": "execute_result"
    }
   ],
   "source": [
    "#Create pipeline and tuple for numeric columns\n",
    "num_pipe = make_pipeline(knnimpute, scaler)\n",
    "num_tuple = ('numeric', num_pipe, numcols)\n",
    "num_tuple"
   ]
  },
  {
   "cell_type": "code",
   "execution_count": null,
   "id": "2e6e46b7-7e20-4e81-8fa5-686aa010666a",
   "metadata": {},
   "outputs": [],
   "source": []
  },
  {
   "cell_type": "code",
   "execution_count": 10,
   "id": "8e1be67c-3133-40d3-9e1b-d8f0dcf2154a",
   "metadata": {},
   "outputs": [
    {
     "data": {
      "text/plain": [
       "('catagorical',\n",
       " Pipeline(steps=[('onehotencoder',\n",
       "                  OneHotEncoder(handle_unknown='ignore', sparse_output=False)),\n",
       "                 ('knnimputer', KNNImputer(n_neighbors=3)),\n",
       "                 ('standardscaler', StandardScaler())]),\n",
       " Index(['Sex', 'Marital', 'Race'], dtype='object'))"
      ]
     },
     "execution_count": 10,
     "metadata": {},
     "output_type": "execute_result"
    }
   ],
   "source": [
    "#Create pipeline and tuple for catagorical columns\n",
    "cat_pipe = make_pipeline(ohe, knnimpute, scaler)\n",
    "cat_tuple = ('catagorical',cat_pipe, catcols)\n",
    "cat_tuple"
   ]
  },
  {
   "cell_type": "code",
   "execution_count": 11,
   "id": "e57dc976-605a-4fe8-9e54-c793c218af6c",
   "metadata": {},
   "outputs": [
    {
     "data": {
      "text/plain": [
       "('ordinal', StandardScaler(), Index(['AlbRating'], dtype='object'))"
      ]
     },
     "execution_count": 11,
     "metadata": {},
     "output_type": "execute_result"
    }
   ],
   "source": [
    "#Create pipeline and tuple for numeric columns\n",
    "ord_tuple = ('ordinal', scaler, ordcols)\n",
    "ord_tuple\n"
   ]
  },
  {
   "cell_type": "code",
   "execution_count": 12,
   "id": "f39c6a4b-cbf5-4a63-a045-d9df16e6ce33",
   "metadata": {},
   "outputs": [
    {
     "data": {
      "text/html": [
       "<style>#sk-container-id-1 {color: black;background-color: white;}#sk-container-id-1 pre{padding: 0;}#sk-container-id-1 div.sk-toggleable {background-color: white;}#sk-container-id-1 label.sk-toggleable__label {cursor: pointer;display: block;width: 100%;margin-bottom: 0;padding: 0.3em;box-sizing: border-box;text-align: center;}#sk-container-id-1 label.sk-toggleable__label-arrow:before {content: \"▸\";float: left;margin-right: 0.25em;color: #696969;}#sk-container-id-1 label.sk-toggleable__label-arrow:hover:before {color: black;}#sk-container-id-1 div.sk-estimator:hover label.sk-toggleable__label-arrow:before {color: black;}#sk-container-id-1 div.sk-toggleable__content {max-height: 0;max-width: 0;overflow: hidden;text-align: left;background-color: #f0f8ff;}#sk-container-id-1 div.sk-toggleable__content pre {margin: 0.2em;color: black;border-radius: 0.25em;background-color: #f0f8ff;}#sk-container-id-1 input.sk-toggleable__control:checked~div.sk-toggleable__content {max-height: 200px;max-width: 100%;overflow: auto;}#sk-container-id-1 input.sk-toggleable__control:checked~label.sk-toggleable__label-arrow:before {content: \"▾\";}#sk-container-id-1 div.sk-estimator input.sk-toggleable__control:checked~label.sk-toggleable__label {background-color: #d4ebff;}#sk-container-id-1 div.sk-label input.sk-toggleable__control:checked~label.sk-toggleable__label {background-color: #d4ebff;}#sk-container-id-1 input.sk-hidden--visually {border: 0;clip: rect(1px 1px 1px 1px);clip: rect(1px, 1px, 1px, 1px);height: 1px;margin: -1px;overflow: hidden;padding: 0;position: absolute;width: 1px;}#sk-container-id-1 div.sk-estimator {font-family: monospace;background-color: #f0f8ff;border: 1px dotted black;border-radius: 0.25em;box-sizing: border-box;margin-bottom: 0.5em;}#sk-container-id-1 div.sk-estimator:hover {background-color: #d4ebff;}#sk-container-id-1 div.sk-parallel-item::after {content: \"\";width: 100%;border-bottom: 1px solid gray;flex-grow: 1;}#sk-container-id-1 div.sk-label:hover label.sk-toggleable__label {background-color: #d4ebff;}#sk-container-id-1 div.sk-serial::before {content: \"\";position: absolute;border-left: 1px solid gray;box-sizing: border-box;top: 0;bottom: 0;left: 50%;z-index: 0;}#sk-container-id-1 div.sk-serial {display: flex;flex-direction: column;align-items: center;background-color: white;padding-right: 0.2em;padding-left: 0.2em;position: relative;}#sk-container-id-1 div.sk-item {position: relative;z-index: 1;}#sk-container-id-1 div.sk-parallel {display: flex;align-items: stretch;justify-content: center;background-color: white;position: relative;}#sk-container-id-1 div.sk-item::before, #sk-container-id-1 div.sk-parallel-item::before {content: \"\";position: absolute;border-left: 1px solid gray;box-sizing: border-box;top: 0;bottom: 0;left: 50%;z-index: -1;}#sk-container-id-1 div.sk-parallel-item {display: flex;flex-direction: column;z-index: 1;position: relative;background-color: white;}#sk-container-id-1 div.sk-parallel-item:first-child::after {align-self: flex-end;width: 50%;}#sk-container-id-1 div.sk-parallel-item:last-child::after {align-self: flex-start;width: 50%;}#sk-container-id-1 div.sk-parallel-item:only-child::after {width: 0;}#sk-container-id-1 div.sk-dashed-wrapped {border: 1px dashed gray;margin: 0 0.4em 0.5em 0.4em;box-sizing: border-box;padding-bottom: 0.4em;background-color: white;}#sk-container-id-1 div.sk-label label {font-family: monospace;font-weight: bold;display: inline-block;line-height: 1.2em;}#sk-container-id-1 div.sk-label-container {text-align: center;}#sk-container-id-1 div.sk-container {/* jupyter's `normalize.less` sets `[hidden] { display: none; }` but bootstrap.min.css set `[hidden] { display: none !important; }` so we also need the `!important` here to be able to override the default hidden behavior on the sphinx rendered scikit-learn.org. See: https://github.com/scikit-learn/scikit-learn/issues/21755 */display: inline-block !important;position: relative;}#sk-container-id-1 div.sk-text-repr-fallback {display: none;}</style><div id=\"sk-container-id-1\" class=\"sk-top-container\"><div class=\"sk-text-repr-fallback\"><pre>ColumnTransformer(transformers=[(&#x27;numeric&#x27;,\n",
       "                                 Pipeline(steps=[(&#x27;knnimputer&#x27;,\n",
       "                                                  KNNImputer(n_neighbors=3)),\n",
       "                                                 (&#x27;standardscaler&#x27;,\n",
       "                                                  StandardScaler())]),\n",
       "                                 Index([&#x27;seqn&#x27;, &#x27;Age&#x27;, &#x27;Income&#x27;, &#x27;Waist&#x27;, &#x27;BMI&#x27;, &#x27;UricAcid&#x27;, &#x27;Glucose&#x27;, &#x27;HDL&#x27;,\n",
       "       &#x27;Triglycerides&#x27;],\n",
       "      dtype=&#x27;object&#x27;)),\n",
       "                                (&#x27;catagorical&#x27;,\n",
       "                                 Pipeline(steps=[(&#x27;onehotencoder&#x27;,\n",
       "                                                  OneHotEncoder(handle_unknown=&#x27;ignore&#x27;,\n",
       "                                                                sparse_output=False)),\n",
       "                                                 (&#x27;knnimputer&#x27;,\n",
       "                                                  KNNImputer(n_neighbors=3)),\n",
       "                                                 (&#x27;standardscaler&#x27;,\n",
       "                                                  StandardScaler())]),\n",
       "                                 Index([&#x27;Sex&#x27;, &#x27;Marital&#x27;, &#x27;Race&#x27;], dtype=&#x27;object&#x27;)),\n",
       "                                (&#x27;ordinal&#x27;, StandardScaler(),\n",
       "                                 Index([&#x27;AlbRating&#x27;], dtype=&#x27;object&#x27;))],\n",
       "                  verbose_feature_names_out=False)</pre><b>In a Jupyter environment, please rerun this cell to show the HTML representation or trust the notebook. <br />On GitHub, the HTML representation is unable to render, please try loading this page with nbviewer.org.</b></div><div class=\"sk-container\" hidden><div class=\"sk-item sk-dashed-wrapped\"><div class=\"sk-label-container\"><div class=\"sk-label sk-toggleable\"><input class=\"sk-toggleable__control sk-hidden--visually\" id=\"sk-estimator-id-1\" type=\"checkbox\" ><label for=\"sk-estimator-id-1\" class=\"sk-toggleable__label sk-toggleable__label-arrow\">ColumnTransformer</label><div class=\"sk-toggleable__content\"><pre>ColumnTransformer(transformers=[(&#x27;numeric&#x27;,\n",
       "                                 Pipeline(steps=[(&#x27;knnimputer&#x27;,\n",
       "                                                  KNNImputer(n_neighbors=3)),\n",
       "                                                 (&#x27;standardscaler&#x27;,\n",
       "                                                  StandardScaler())]),\n",
       "                                 Index([&#x27;seqn&#x27;, &#x27;Age&#x27;, &#x27;Income&#x27;, &#x27;Waist&#x27;, &#x27;BMI&#x27;, &#x27;UricAcid&#x27;, &#x27;Glucose&#x27;, &#x27;HDL&#x27;,\n",
       "       &#x27;Triglycerides&#x27;],\n",
       "      dtype=&#x27;object&#x27;)),\n",
       "                                (&#x27;catagorical&#x27;,\n",
       "                                 Pipeline(steps=[(&#x27;onehotencoder&#x27;,\n",
       "                                                  OneHotEncoder(handle_unknown=&#x27;ignore&#x27;,\n",
       "                                                                sparse_output=False)),\n",
       "                                                 (&#x27;knnimputer&#x27;,\n",
       "                                                  KNNImputer(n_neighbors=3)),\n",
       "                                                 (&#x27;standardscaler&#x27;,\n",
       "                                                  StandardScaler())]),\n",
       "                                 Index([&#x27;Sex&#x27;, &#x27;Marital&#x27;, &#x27;Race&#x27;], dtype=&#x27;object&#x27;)),\n",
       "                                (&#x27;ordinal&#x27;, StandardScaler(),\n",
       "                                 Index([&#x27;AlbRating&#x27;], dtype=&#x27;object&#x27;))],\n",
       "                  verbose_feature_names_out=False)</pre></div></div></div><div class=\"sk-parallel\"><div class=\"sk-parallel-item\"><div class=\"sk-item\"><div class=\"sk-label-container\"><div class=\"sk-label sk-toggleable\"><input class=\"sk-toggleable__control sk-hidden--visually\" id=\"sk-estimator-id-2\" type=\"checkbox\" ><label for=\"sk-estimator-id-2\" class=\"sk-toggleable__label sk-toggleable__label-arrow\">numeric</label><div class=\"sk-toggleable__content\"><pre>Index([&#x27;seqn&#x27;, &#x27;Age&#x27;, &#x27;Income&#x27;, &#x27;Waist&#x27;, &#x27;BMI&#x27;, &#x27;UricAcid&#x27;, &#x27;Glucose&#x27;, &#x27;HDL&#x27;,\n",
       "       &#x27;Triglycerides&#x27;],\n",
       "      dtype=&#x27;object&#x27;)</pre></div></div></div><div class=\"sk-serial\"><div class=\"sk-item\"><div class=\"sk-serial\"><div class=\"sk-item\"><div class=\"sk-estimator sk-toggleable\"><input class=\"sk-toggleable__control sk-hidden--visually\" id=\"sk-estimator-id-3\" type=\"checkbox\" ><label for=\"sk-estimator-id-3\" class=\"sk-toggleable__label sk-toggleable__label-arrow\">KNNImputer</label><div class=\"sk-toggleable__content\"><pre>KNNImputer(n_neighbors=3)</pre></div></div></div><div class=\"sk-item\"><div class=\"sk-estimator sk-toggleable\"><input class=\"sk-toggleable__control sk-hidden--visually\" id=\"sk-estimator-id-4\" type=\"checkbox\" ><label for=\"sk-estimator-id-4\" class=\"sk-toggleable__label sk-toggleable__label-arrow\">StandardScaler</label><div class=\"sk-toggleable__content\"><pre>StandardScaler()</pre></div></div></div></div></div></div></div></div><div class=\"sk-parallel-item\"><div class=\"sk-item\"><div class=\"sk-label-container\"><div class=\"sk-label sk-toggleable\"><input class=\"sk-toggleable__control sk-hidden--visually\" id=\"sk-estimator-id-5\" type=\"checkbox\" ><label for=\"sk-estimator-id-5\" class=\"sk-toggleable__label sk-toggleable__label-arrow\">catagorical</label><div class=\"sk-toggleable__content\"><pre>Index([&#x27;Sex&#x27;, &#x27;Marital&#x27;, &#x27;Race&#x27;], dtype=&#x27;object&#x27;)</pre></div></div></div><div class=\"sk-serial\"><div class=\"sk-item\"><div class=\"sk-serial\"><div class=\"sk-item\"><div class=\"sk-estimator sk-toggleable\"><input class=\"sk-toggleable__control sk-hidden--visually\" id=\"sk-estimator-id-6\" type=\"checkbox\" ><label for=\"sk-estimator-id-6\" class=\"sk-toggleable__label sk-toggleable__label-arrow\">OneHotEncoder</label><div class=\"sk-toggleable__content\"><pre>OneHotEncoder(handle_unknown=&#x27;ignore&#x27;, sparse_output=False)</pre></div></div></div><div class=\"sk-item\"><div class=\"sk-estimator sk-toggleable\"><input class=\"sk-toggleable__control sk-hidden--visually\" id=\"sk-estimator-id-7\" type=\"checkbox\" ><label for=\"sk-estimator-id-7\" class=\"sk-toggleable__label sk-toggleable__label-arrow\">KNNImputer</label><div class=\"sk-toggleable__content\"><pre>KNNImputer(n_neighbors=3)</pre></div></div></div><div class=\"sk-item\"><div class=\"sk-estimator sk-toggleable\"><input class=\"sk-toggleable__control sk-hidden--visually\" id=\"sk-estimator-id-8\" type=\"checkbox\" ><label for=\"sk-estimator-id-8\" class=\"sk-toggleable__label sk-toggleable__label-arrow\">StandardScaler</label><div class=\"sk-toggleable__content\"><pre>StandardScaler()</pre></div></div></div></div></div></div></div></div><div class=\"sk-parallel-item\"><div class=\"sk-item\"><div class=\"sk-label-container\"><div class=\"sk-label sk-toggleable\"><input class=\"sk-toggleable__control sk-hidden--visually\" id=\"sk-estimator-id-9\" type=\"checkbox\" ><label for=\"sk-estimator-id-9\" class=\"sk-toggleable__label sk-toggleable__label-arrow\">ordinal</label><div class=\"sk-toggleable__content\"><pre>Index([&#x27;AlbRating&#x27;], dtype=&#x27;object&#x27;)</pre></div></div></div><div class=\"sk-serial\"><div class=\"sk-item\"><div class=\"sk-estimator sk-toggleable\"><input class=\"sk-toggleable__control sk-hidden--visually\" id=\"sk-estimator-id-10\" type=\"checkbox\" ><label for=\"sk-estimator-id-10\" class=\"sk-toggleable__label sk-toggleable__label-arrow\">StandardScaler</label><div class=\"sk-toggleable__content\"><pre>StandardScaler()</pre></div></div></div></div></div></div></div></div></div></div>"
      ],
      "text/plain": [
       "ColumnTransformer(transformers=[('numeric',\n",
       "                                 Pipeline(steps=[('knnimputer',\n",
       "                                                  KNNImputer(n_neighbors=3)),\n",
       "                                                 ('standardscaler',\n",
       "                                                  StandardScaler())]),\n",
       "                                 Index(['seqn', 'Age', 'Income', 'Waist', 'BMI', 'UricAcid', 'Glucose', 'HDL',\n",
       "       'Triglycerides'],\n",
       "      dtype='object')),\n",
       "                                ('catagorical',\n",
       "                                 Pipeline(steps=[('onehotencoder',\n",
       "                                                  OneHotEncoder(handle_unknown='ignore',\n",
       "                                                                sparse_output=False)),\n",
       "                                                 ('knnimputer',\n",
       "                                                  KNNImputer(n_neighbors=3)),\n",
       "                                                 ('standardscaler',\n",
       "                                                  StandardScaler())]),\n",
       "                                 Index(['Sex', 'Marital', 'Race'], dtype='object')),\n",
       "                                ('ordinal', StandardScaler(),\n",
       "                                 Index(['AlbRating'], dtype='object'))],\n",
       "                  verbose_feature_names_out=False)"
      ]
     },
     "execution_count": 12,
     "metadata": {},
     "output_type": "execute_result"
    }
   ],
   "source": [
    "preprocessor = ColumnTransformer([num_tuple,cat_tuple, ord_tuple],\n",
    "                               verbose_feature_names_out=False)\n",
    "preprocessor"
   ]
  },
  {
   "cell_type": "code",
   "execution_count": 13,
   "id": "7367572a-0cc4-4c3e-967b-dcd2dd7cc6e2",
   "metadata": {},
   "outputs": [
    {
     "data": {
      "text/html": [
       "<div>\n",
       "<style scoped>\n",
       "    .dataframe tbody tr th:only-of-type {\n",
       "        vertical-align: middle;\n",
       "    }\n",
       "\n",
       "    .dataframe tbody tr th {\n",
       "        vertical-align: top;\n",
       "    }\n",
       "\n",
       "    .dataframe thead th {\n",
       "        text-align: right;\n",
       "    }\n",
       "</style>\n",
       "<table border=\"1\" class=\"dataframe\">\n",
       "  <thead>\n",
       "    <tr style=\"text-align: right;\">\n",
       "      <th></th>\n",
       "      <th>seqn</th>\n",
       "      <th>Age</th>\n",
       "      <th>Income</th>\n",
       "      <th>Waist</th>\n",
       "      <th>BMI</th>\n",
       "      <th>UricAcid</th>\n",
       "      <th>Glucose</th>\n",
       "      <th>HDL</th>\n",
       "      <th>Triglycerides</th>\n",
       "      <th>Sex_Female</th>\n",
       "      <th>...</th>\n",
       "      <th>Marital_Single</th>\n",
       "      <th>Marital_Widowed</th>\n",
       "      <th>Marital_nan</th>\n",
       "      <th>Race_Asian</th>\n",
       "      <th>Race_Black</th>\n",
       "      <th>Race_Hispanic</th>\n",
       "      <th>Race_MexAmerican</th>\n",
       "      <th>Race_Other</th>\n",
       "      <th>Race_White</th>\n",
       "      <th>AlbRating</th>\n",
       "    </tr>\n",
       "  </thead>\n",
       "  <tbody>\n",
       "    <tr>\n",
       "      <th>263</th>\n",
       "      <td>-1.358170</td>\n",
       "      <td>-0.176875</td>\n",
       "      <td>1.409680</td>\n",
       "      <td>1.579916</td>\n",
       "      <td>1.811453</td>\n",
       "      <td>-1.503810</td>\n",
       "      <td>0.962189</td>\n",
       "      <td>-0.045041</td>\n",
       "      <td>0.728110</td>\n",
       "      <td>0.987852</td>\n",
       "      <td>...</td>\n",
       "      <td>-0.512125</td>\n",
       "      <td>-0.273179</td>\n",
       "      <td>-0.306961</td>\n",
       "      <td>-0.417335</td>\n",
       "      <td>-0.539674</td>\n",
       "      <td>-0.348562</td>\n",
       "      <td>-0.341504</td>\n",
       "      <td>-0.161944</td>\n",
       "      <td>1.256502</td>\n",
       "      <td>-0.366397</td>\n",
       "    </tr>\n",
       "    <tr>\n",
       "      <th>2073</th>\n",
       "      <td>1.239695</td>\n",
       "      <td>-0.857407</td>\n",
       "      <td>-0.193449</td>\n",
       "      <td>-0.763638</td>\n",
       "      <td>-0.637836</td>\n",
       "      <td>0.406271</td>\n",
       "      <td>0.185052</td>\n",
       "      <td>1.929154</td>\n",
       "      <td>-0.704544</td>\n",
       "      <td>-1.012298</td>\n",
       "      <td>...</td>\n",
       "      <td>-0.512125</td>\n",
       "      <td>-0.273179</td>\n",
       "      <td>-0.306961</td>\n",
       "      <td>-0.417335</td>\n",
       "      <td>-0.539674</td>\n",
       "      <td>-0.348562</td>\n",
       "      <td>2.928219</td>\n",
       "      <td>-0.161944</td>\n",
       "      <td>-0.795860</td>\n",
       "      <td>-0.366397</td>\n",
       "    </tr>\n",
       "  </tbody>\n",
       "</table>\n",
       "<p>2 rows × 24 columns</p>\n",
       "</div>"
      ],
      "text/plain": [
       "          seqn       Age    Income     Waist       BMI  UricAcid   Glucose  \\\n",
       "263  -1.358170 -0.176875  1.409680  1.579916  1.811453 -1.503810  0.962189   \n",
       "2073  1.239695 -0.857407 -0.193449 -0.763638 -0.637836  0.406271  0.185052   \n",
       "\n",
       "           HDL  Triglycerides  Sex_Female  ...  Marital_Single  \\\n",
       "263  -0.045041       0.728110    0.987852  ...       -0.512125   \n",
       "2073  1.929154      -0.704544   -1.012298  ...       -0.512125   \n",
       "\n",
       "      Marital_Widowed  Marital_nan  Race_Asian  Race_Black  Race_Hispanic  \\\n",
       "263         -0.273179    -0.306961   -0.417335   -0.539674      -0.348562   \n",
       "2073        -0.273179    -0.306961   -0.417335   -0.539674      -0.348562   \n",
       "\n",
       "      Race_MexAmerican  Race_Other  Race_White  AlbRating  \n",
       "263          -0.341504   -0.161944    1.256502  -0.366397  \n",
       "2073          2.928219   -0.161944   -0.795860  -0.366397  \n",
       "\n",
       "[2 rows x 24 columns]"
      ]
     },
     "execution_count": 13,
     "metadata": {},
     "output_type": "execute_result"
    }
   ],
   "source": [
    "X_train_tf = preprocessor.fit_transform(X_train)\n",
    "X_test_tf = preprocessor.transform(X_test)\n",
    "X_train_tf[:2]"
   ]
  },
  {
   "cell_type": "markdown",
   "id": "b1265f7e-2633-4317-9626-92fd9075ccc8",
   "metadata": {},
   "source": [
    "### Use KMeans Clustering"
   ]
  },
  {
   "cell_type": "code",
   "execution_count": 14,
   "id": "8f9290fe-6f5e-426f-8680-e157215d3155",
   "metadata": {},
   "outputs": [
    {
     "data": {
      "text/plain": [
       "Text(0, 0.5, 'Inertia')"
      ]
     },
     "execution_count": 14,
     "metadata": {},
     "output_type": "execute_result"
    },
    {
     "data": {
      "image/png": "[encoded data removed]",
      "text/plain": [
       "<Figure size 640x480 with 1 Axes>"
      ]
     },
     "metadata": {},
     "output_type": "display_data"
    }
   ],
   "source": [
    "#Create an empty list of inertias\n",
    "inertias = []\n",
    "#Loop through k values between 2 and 10 and store the inertias in the list.\n",
    "for k in range(2,11):\n",
    "    kmeans = KMeans(n_clusters=k, n_init = 'auto', random_state = 42)\n",
    "    kmeans.fit(X_train_tf)\n",
    "    inertias.append(kmeans.inertia_)\n",
    "#Visualize scores\n",
    "plt.plot(range(2,11), inertias, marker = '.')\n",
    "plt.xlabel('Clusters')\n",
    "plt.ylabel('Inertia')\n"
   ]
  },
  {
   "cell_type": "code",
   "execution_count": 15,
   "id": "80963745-cc9d-46dd-b9a6-bf9dab495c52",
   "metadata": {},
   "outputs": [
    {
     "data": {
      "image/png": "[encoded data removed]",
      "text/plain": [
       "<Figure size 640x480 with 1 Axes>"
      ]
     },
     "metadata": {},
     "output_type": "display_data"
    }
   ],
   "source": [
    "# Visualize different silhouette scores\n",
    "# Save silhouette scores for various cluster numbers in list\n",
    "silhouette_scores = []\n",
    "for i in range(2, 11):\n",
    "  kmeans = KMeans(n_clusters = i, n_init = 'auto', random_state = 42)\n",
    "  kmeans.fit(X_train_tf)\n",
    "  silhouette_scores.append(silhouette_score(X_train_tf, kmeans.labels_))\n",
    "# Visualize scores\n",
    "plt.plot(range(2, 11), silhouette_scores, marker = '.')\n",
    "plt.xlabel('Number of Clusters')\n",
    "plt.ylabel('Silhouette Score');\n"
   ]
  },
  {
   "cell_type": "markdown",
   "id": "c9fe2184-ad76-466b-bba5-807db10e1acf",
   "metadata": {},
   "source": [
    "*  Looking at the Elbow plot, 8 clusters is recommended\n",
    "*  Looking at the Silhouette score,  8 clusters would be recommended\n",
    "*  Since both method of evaluation agree, will use 8 clusters."
   ]
  },
  {
   "cell_type": "markdown",
   "id": "1c6f4697-6176-48c6-b59b-72ac9a7d39ef",
   "metadata": {},
   "source": [
    "### KMeans Model"
   ]
  },
  {
   "cell_type": "code",
   "execution_count": 16,
   "id": "5b15ea41-b080-4d8d-9c27-30a1dc2dfecd",
   "metadata": {},
   "outputs": [
    {
     "data": {
      "text/plain": [
       "0.1344746518929928"
      ]
     },
     "execution_count": 16,
     "metadata": {},
     "output_type": "execute_result"
    }
   ],
   "source": [
    "# Fit kmeans model with 2 clusters and display the silhouette score\n",
    "kmeans = KMeans(n_clusters = 8, n_init = 'auto', random_state = 42)\n",
    "kmeans.fit(X_train_tf)\n",
    "silhouette_score(X_train_tf, kmeans.labels_)"
   ]
  },
  {
   "cell_type": "code",
   "execution_count": 21,
   "id": "a006cef8-16e1-4781-aa1e-22a530c6464c",
   "metadata": {},
   "outputs": [],
   "source": [
    "#Save clusters to the dataframe\n",
    "X_train_cluster = X_train_tf.copy()\n",
    "X_train_cluster['cluster'] = kmeans.labels_"
   ]
  },
  {
   "cell_type": "code",
   "execution_count": 22,
   "id": "45eaddd0-d2e2-4178-8f33-cf3a2774367d",
   "metadata": {},
   "outputs": [],
   "source": [
    "X_test_cluster = X_test_tf.copy()\n",
    "X_test_cluster['cluster'] = kmeans.predict(X_test_tf)"
   ]
  },
  {
   "cell_type": "code",
   "execution_count": 25,
   "id": "ca528dc9-5787-4a09-94bd-e620fce0cc23",
   "metadata": {},
   "outputs": [
    {
     "data": {
      "text/html": [
       "<style>#sk-container-id-2 {color: black;background-color: white;}#sk-container-id-2 pre{padding: 0;}#sk-container-id-2 div.sk-toggleable {background-color: white;}#sk-container-id-2 label.sk-toggleable__label {cursor: pointer;display: block;width: 100%;margin-bottom: 0;padding: 0.3em;box-sizing: border-box;text-align: center;}#sk-container-id-2 label.sk-toggleable__label-arrow:before {content: \"▸\";float: left;margin-right: 0.25em;color: #696969;}#sk-container-id-2 label.sk-toggleable__label-arrow:hover:before {color: black;}#sk-container-id-2 div.sk-estimator:hover label.sk-toggleable__label-arrow:before {color: black;}#sk-container-id-2 div.sk-toggleable__content {max-height: 0;max-width: 0;overflow: hidden;text-align: left;background-color: #f0f8ff;}#sk-container-id-2 div.sk-toggleable__content pre {margin: 0.2em;color: black;border-radius: 0.25em;background-color: #f0f8ff;}#sk-container-id-2 input.sk-toggleable__control:checked~div.sk-toggleable__content {max-height: 200px;max-width: 100%;overflow: auto;}#sk-container-id-2 input.sk-toggleable__control:checked~label.sk-toggleable__label-arrow:before {content: \"▾\";}#sk-container-id-2 div.sk-estimator input.sk-toggleable__control:checked~label.sk-toggleable__label {background-color: #d4ebff;}#sk-container-id-2 div.sk-label input.sk-toggleable__control:checked~label.sk-toggleable__label {background-color: #d4ebff;}#sk-container-id-2 input.sk-hidden--visually {border: 0;clip: rect(1px 1px 1px 1px);clip: rect(1px, 1px, 1px, 1px);height: 1px;margin: -1px;overflow: hidden;padding: 0;position: absolute;width: 1px;}#sk-container-id-2 div.sk-estimator {font-family: monospace;background-color: #f0f8ff;border: 1px dotted black;border-radius: 0.25em;box-sizing: border-box;margin-bottom: 0.5em;}#sk-container-id-2 div.sk-estimator:hover {background-color: #d4ebff;}#sk-container-id-2 div.sk-parallel-item::after {content: \"\";width: 100%;border-bottom: 1px solid gray;flex-grow: 1;}#sk-container-id-2 div.sk-label:hover label.sk-toggleable__label {background-color: #d4ebff;}#sk-container-id-2 div.sk-serial::before {content: \"\";position: absolute;border-left: 1px solid gray;box-sizing: border-box;top: 0;bottom: 0;left: 50%;z-index: 0;}#sk-container-id-2 div.sk-serial {display: flex;flex-direction: column;align-items: center;background-color: white;padding-right: 0.2em;padding-left: 0.2em;position: relative;}#sk-container-id-2 div.sk-item {position: relative;z-index: 1;}#sk-container-id-2 div.sk-parallel {display: flex;align-items: stretch;justify-content: center;background-color: white;position: relative;}#sk-container-id-2 div.sk-item::before, #sk-container-id-2 div.sk-parallel-item::before {content: \"\";position: absolute;border-left: 1px solid gray;box-sizing: border-box;top: 0;bottom: 0;left: 50%;z-index: -1;}#sk-container-id-2 div.sk-parallel-item {display: flex;flex-direction: column;z-index: 1;position: relative;background-color: white;}#sk-container-id-2 div.sk-parallel-item:first-child::after {align-self: flex-end;width: 50%;}#sk-container-id-2 div.sk-parallel-item:last-child::after {align-self: flex-start;width: 50%;}#sk-container-id-2 div.sk-parallel-item:only-child::after {width: 0;}#sk-container-id-2 div.sk-dashed-wrapped {border: 1px dashed gray;margin: 0 0.4em 0.5em 0.4em;box-sizing: border-box;padding-bottom: 0.4em;background-color: white;}#sk-container-id-2 div.sk-label label {font-family: monospace;font-weight: bold;display: inline-block;line-height: 1.2em;}#sk-container-id-2 div.sk-label-container {text-align: center;}#sk-container-id-2 div.sk-container {/* jupyter's `normalize.less` sets `[hidden] { display: none; }` but bootstrap.min.css set `[hidden] { display: none !important; }` so we also need the `!important` here to be able to override the default hidden behavior on the sphinx rendered scikit-learn.org. See: https://github.com/scikit-learn/scikit-learn/issues/21755 */display: inline-block !important;position: relative;}#sk-container-id-2 div.sk-text-repr-fallback {display: none;}</style><div id=\"sk-container-id-2\" class=\"sk-top-container\"><div class=\"sk-text-repr-fallback\"><pre>DecisionTreeClassifier()</pre><b>In a Jupyter environment, please rerun this cell to show the HTML representation or trust the notebook. <br />On GitHub, the HTML representation is unable to render, please try loading this page with nbviewer.org.</b></div><div class=\"sk-container\" hidden><div class=\"sk-item\"><div class=\"sk-estimator sk-toggleable\"><input class=\"sk-toggleable__control sk-hidden--visually\" id=\"sk-estimator-id-11\" type=\"checkbox\" checked><label for=\"sk-estimator-id-11\" class=\"sk-toggleable__label sk-toggleable__label-arrow\">DecisionTreeClassifier</label><div class=\"sk-toggleable__content\"><pre>DecisionTreeClassifier()</pre></div></div></div></div></div>"
      ],
      "text/plain": [
       "DecisionTreeClassifier()"
      ]
     },
     "execution_count": 25,
     "metadata": {},
     "output_type": "execute_result"
    }
   ],
   "source": [
    "dt = DecisionTreeClassifier()\n",
    "dt.fit(X_train_cluster, y_train)"
   ]
  },
  {
   "cell_type": "code",
   "execution_count": 28,
   "id": "a4257cc4-ca93-44e6-b0fc-a74619df1c63",
   "metadata": {},
   "outputs": [
    {
     "name": "stdout",
     "output_type": "stream",
     "text": [
      "----------------------------------------------------------------------\n",
      " Classification Metrics: Training Data\n",
      "----------------------------------------------------------------------\n",
      "              precision    recall  f1-score   support\n",
      "\n",
      "      MetSyn       1.00      1.00      1.00       618\n",
      "   No MetSyn       1.00      1.00      1.00      1182\n",
      "\n",
      "    accuracy                           1.00      1800\n",
      "   macro avg       1.00      1.00      1.00      1800\n",
      "weighted avg       1.00      1.00      1.00      1800\n",
      "\n"
     ]
    },
    {
     "data": {
      "image/png": "[encoded data removed]",
      "text/plain": [
       "<Figure size 600x400 with 2 Axes>"
      ]
     },
     "metadata": {},
     "output_type": "display_data"
    },
    {
     "name": "stdout",
     "output_type": "stream",
     "text": [
      "\n",
      "----------------------------------------------------------------------\n",
      " Classification Metrics: Test Data\n",
      "----------------------------------------------------------------------\n",
      "              precision    recall  f1-score   support\n",
      "\n",
      "      MetSyn       0.81      0.79      0.80       204\n",
      "   No MetSyn       0.90      0.91      0.90       397\n",
      "\n",
      "    accuracy                           0.87       601\n",
      "   macro avg       0.85      0.85      0.85       601\n",
      "weighted avg       0.87      0.87      0.87       601\n",
      "\n"
     ]
    },
    {
     "data": {
      "image/png": "[encoded data removed]",
      "text/plain": [
       "<Figure size 600x400 with 2 Axes>"
      ]
     },
     "metadata": {},
     "output_type": "display_data"
    }
   ],
   "source": [
    "evaluate_classification(dt, X_train_cluster, y_train, X_test_cluster, y_test)"
   ]
  },
  {
   "cell_type": "code",
   "execution_count": null,
   "id": "bdf4a4a3-994f-4a56-bf6b-240da2b2070b",
   "metadata": {},
   "outputs": [],
   "source": []
  }
 ],
 "metadata": {
  "kernelspec": {
   "display_name": "Python (dojo-env)",
   "language": "python",
   "name": "dojo-env"
  },
  "language_info": {
   "codemirror_mode": {
    "name": "ipython",
    "version": 3
   },
   "file_extension": ".py",
   "mimetype": "text/x-python",
   "name": "python",
   "nbconvert_exporter": "python",
   "pygments_lexer": "ipython3",
   "version": "3.10.10"
  },
  "widgets": {
   "application/vnd.jupyter.widget-state+json": {
    "state": {},
    "version_major": 2,
    "version_minor": 0
   }
  }
 },
 "nbformat": 4,
 "nbformat_minor": 5
}
