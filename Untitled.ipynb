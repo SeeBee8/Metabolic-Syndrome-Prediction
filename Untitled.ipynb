{
 "cells": [
  {
   "cell_type": "markdown",
   "id": "e8c5af28-c9f3-4d14-9dc5-d05e8d2718f7",
   "metadata": {},
   "source": []
  },
  {
   "attachments": {},
   "cell_type": "markdown",
   "id": "6bcb4844-bdae-4294-b701-900a9ce20db4",
   "metadata": {},
   "source": [
    "# Metabolic Syndrome Prediction\n",
    "Project 4\n",
    "\n",
    "\n",
    "*Christina Brockway*\n",
    "\n",
    "## Business Understanding\n",
    "\n",
    "\n",
    "**Stakeholder Needs:**\n",
    "To use a machine learning model and look at common risk factors to predict the likelihood of someone having metabolic syndrome.\n",
    "\n",
    "\n",
    "**Metaolic Syndrome Prediction** \n",
    "-  Other names:  Syndrom X, Insulin Resistance Syndrome, Dysmetabolic Syndrome\n",
    "-  A cluster of conditions that cause and increased risk for heart disease, stroke, and diabetes\n",
    "  \n",
    "According to the Mayo Clinic, metabolic syndrome will  cause an increase in the risk of heart disease, stroke, and type 2 diabetes.  This syndrome is caused by the presence of multiple risk factors such as body mass index, waist circumference, cholesterol levels, age,  and other various factors.  The National Heart, Lung, and Blood Institue says the syndrome is found in about 1 in 3 adults making it farily common. A diagnosis of metabolic syndrome, although eye opening, doesn't mean patients are definitively getting diabetes or having a stroke. With the right diet and healthy lifestyle changes, metabolic syndrome is preventable, thus showing the importantance of identifying it. \n",
    "\n",
    "The goal of this projest is to use a series of risk factors, and create a model that can predict the likihood of metabolic syndrome in patients. The dataset provided came from the NHANES initiative.  It contains variables including: waist circumference, triglyerades, cholesterol levels, race, income, uric acid levels, age, gender, marital status, income level, body mass index, urine albumin grades and rates, and blood glucose levels.\n",
    "\n",
    "The target for this dataset is the metabolicsyndrome feature.  SEQN will be set as the index as it is a unique identifier.  There are 2401 records representing a person and their attributes of which there are 13. There are some columns that have null values needing to be imputed. The feature 'uralbcr' was not defined and and assumption was made as to what is being represented based on the NIH and Cleavland Clinic websites. On first glance there don't appear to be any chanllenges with the dataset that would interfere with modeling."
   ]
  },
  {
   "cell_type": "markdown",
   "id": "890259fd-7259-4ebc-a086-bd59d4e09913",
   "metadata": {},
   "source": [
    "<style type=\"text/css\">\n",
    ".tg  {border-collapse:collapse;border-spacing:0;}\n",
    ".tg td{border-color:black;border-style:solid;border-width:1px;font-family:Arial, sans-serif;font-size:14px;\n",
    "  overflow:hidden;padding:10px 5px;word-break:normal;}\n",
    ".tg th{border-color:black;border-style:solid;border-width:1px;font-family:Arial, sans-serif;font-size:14px;\n",
    "  font-weight:normal;overflow:hidden;padding:10px 5px;word-break:normal;}\n",
    ".tg .tg-0pky{border-color:inherit;text-align:left;vertical-align:top}\n",
    "</style>\n",
    "<table class=\"tg\">\n",
    "<thead>\n",
    "  <tr>\n",
    "    <th class=\"tg-0pky\" colspan=\"5\"><span style=\"font-weight:bold;font-style:italic\">Data Dictionary for Metabolic Syndrome Dataset </span></th>\n",
    "  </tr>\n",
    "</thead>\n",
    "<tbody>\n",
    "  <tr>\n",
    "    <td class=\"tg-0pky\"><span style=\"font-weight:bold\">Feature</span></td>\n",
    "    <td class=\"tg-0pky\"><span style=\"font-weight:bold\">dtype</span></td>\n",
    "    <td class=\"tg-0pky\"><span style=\"font-weight:bold\">Expected Range</span></td>\n",
    "    <td class=\"tg-0pky\"><span style=\"font-weight:bold\">Definition</span></td>\n",
    "    <td class=\"tg-0pky\"><span style=\"font-weight:bold;font-style:italic\">cat, num, ord</span></td>\n",
    "  </tr>\n",
    "  <tr>\n",
    "    <td class=\"tg-0pky\"><span style=\"font-weight:bold;font-style:italic\">seqn</span></td>\n",
    "    <td class=\"tg-0pky\">int</td>\n",
    "    <td class=\"tg-0pky\">#</td>\n",
    "    <td class=\"tg-0pky\">sequential identification number</td>\n",
    "    <td class=\"tg-0pky\"><span style=\"font-weight:bold;font-style:italic\">Index?</span></td>\n",
    "  </tr>\n",
    "  <tr>\n",
    "    <td class=\"tg-0pky\">Age</td>\n",
    "    <td class=\"tg-0pky\">int</td>\n",
    "    <td class=\"tg-0pky\">20-80</td>\n",
    "    <td class=\"tg-0pky\">age of individual<br></td>\n",
    "    <td class=\"tg-0pky\">num</td>\n",
    "  </tr>\n",
    "  <tr>\n",
    "    <td class=\"tg-0pky\">Sex</td>\n",
    "    <td class=\"tg-0pky\">str</td>\n",
    "    <td class=\"tg-0pky\">Male<br>Female</td>\n",
    "    <td class=\"tg-0pky\">gender of individual</td>\n",
    "    <td class=\"tg-0pky\">cat</td>\n",
    "  </tr>\n",
    "  <tr>\n",
    "    <td class=\"tg-0pky\">Marital</td>\n",
    "    <td class=\"tg-0pky\">str</td>\n",
    "    <td class=\"tg-0pky\">Married<br>Single<br>Divorced<br>Widowed<br>Separated</td>\n",
    "    <td class=\"tg-0pky\">marital status</td>\n",
    "    <td class=\"tg-0pky\">cat</td>\n",
    "  </tr>\n",
    "  <tr>\n",
    "    <td class=\"tg-0pky\">Income</td>\n",
    "    <td class=\"tg-0pky\">int</td>\n",
    "    <td class=\"tg-0pky\">#</td>\n",
    "    <td class=\"tg-0pky\">income information</td>\n",
    "    <td class=\"tg-0pky\">num</td>\n",
    "  </tr>\n",
    "  <tr>\n",
    "    <td class=\"tg-0pky\">Race</td>\n",
    "    <td class=\"tg-0pky\">str</td>\n",
    "    <td class=\"tg-0pky\">Other<br>MexAmerican<br>Hispanic<br>Asian<br>Black<br>White</td>\n",
    "    <td class=\"tg-0pky\">race of individual</td>\n",
    "    <td class=\"tg-0pky\">cat</td>\n",
    "  </tr>\n",
    "  <tr>\n",
    "    <td class=\"tg-0pky\">WaistCirc</td>\n",
    "    <td class=\"tg-0pky\">float</td>\n",
    "    <td class=\"tg-0pky\">risk factor(cm): Men, Women<br>low: &lt; 94m,&nbsp;&nbsp;80w<br>high: 94-102m, 80-88w<br>very high: &gt; 102m, 88w</td>\n",
    "    <td class=\"tg-0pky\">Circumference of the waist</td>\n",
    "    <td class=\"tg-0pky\">num</td>\n",
    "  </tr>\n",
    "  <tr>\n",
    "    <td class=\"tg-0pky\">BMI</td>\n",
    "    <td class=\"tg-0pky\">float</td>\n",
    "    <td class=\"tg-0pky\">Underweight:&lt; 18.5<br>Normal:18.5-24.9<br>Overweight: 25-29.9<br>Obese: &gt; 30<br></td>\n",
    "    <td class=\"tg-0pky\">body mass index, a measurement of body composition using height and weight </td>\n",
    "    <td class=\"tg-0pky\">num</td>\n",
    "  </tr>\n",
    "  <tr>\n",
    "    <td class=\"tg-0pky\">Albuminuria</td>\n",
    "    <td class=\"tg-0pky\">int</td>\n",
    "    <td class=\"tg-0pky\">0<br>1<br>2</td>\n",
    "    <td class=\"tg-0pky\">aka proteinuria<br>a scale grading levels of albumin in urine<br><span style=\"font-weight:bold\">A1: &lt;10-30 Normal or mildly elevated </span><br><span style=\"font-weight:bold\">A2:  30-300 moderately elevated</span><br><span style=\"font-weight:bold\">A3:  &gt;300 albuminuria</span></td>\n",
    "    <td class=\"tg-0pky\">ord<br></td>\n",
    "  </tr>\n",
    "  <tr>\n",
    "    <td class=\"tg-0pky\">UrAlbCr</td>\n",
    "    <td class=\"tg-0pky\">float</td>\n",
    "    <td class=\"tg-0pky\">A1: &lt;30 Normal or mildly elevated <br>A2:  30-300 moderately elevated<br>A3:  &gt;300 albuminuria<br></td>\n",
    "    <td class=\"tg-0pky\">actual levels of albumin in urine</td>\n",
    "    <td class=\"tg-0pky\">num</td>\n",
    "  </tr>\n",
    "  <tr>\n",
    "    <td class=\"tg-0pky\">UricAcid</td>\n",
    "    <td class=\"tg-0pky\">float</td>\n",
    "    <td class=\"tg-0pky\">Normal female: &gt;6mg/dL<br>Normal male: &gt;7 mg/dL</td>\n",
    "    <td class=\"tg-0pky\">measures amount of uric acid in blood<br>Uric acid is a normal body waste product<br>too high may mean kidneys are not working properly</td>\n",
    "    <td class=\"tg-0pky\">num</td>\n",
    "  </tr>\n",
    "  <tr>\n",
    "    <td class=\"tg-0pky\">BloodGlucose</td>\n",
    "    <td class=\"tg-0pky\">int</td>\n",
    "    <td class=\"tg-0pky\">Normal 80-130mg/dL</td>\n",
    "    <td class=\"tg-0pky\">Level of glucose in blood<br>too low or too high indicated blood sugar control issues</td>\n",
    "    <td class=\"tg-0pky\">num</td>\n",
    "  </tr>\n",
    "  <tr>\n",
    "    <td class=\"tg-0pky\">HDL</td>\n",
    "    <td class=\"tg-0pky\">int</td>\n",
    "    <td class=\"tg-0pky\">Normal male:  &lt; 40mg/dL <br>Normal female: &lt;50mg/dL</td>\n",
    "    <td class=\"tg-0pky\">\"good\" cholesterol levels in blood<br>a lower HDL means higher risk for heart attack</td>\n",
    "    <td class=\"tg-0pky\">num</td>\n",
    "  </tr>\n",
    "  <tr>\n",
    "    <td class=\"tg-0pky\">Triglycerides</td>\n",
    "    <td class=\"tg-0pky\">int</td>\n",
    "    <td class=\"tg-0pky\">150-199 mg/dL borderline<br>200-499 mg/dL high<br>&gt;500 mg/dL very high</td>\n",
    "    <td class=\"tg-0pky\">amount of triglycerides in blood<br>high levels means risk for stroke or heart attack</td>\n",
    "    <td class=\"tg-0pky\">num</td>\n",
    "  </tr>\n",
    "  <tr>\n",
    "    <td class=\"tg-0pky\"><span style=\"font-weight:bold;font-style:italic\">MetabolicSyndrome</span></td>\n",
    "    <td class=\"tg-0pky\">str</td>\n",
    "    <td class=\"tg-0pky\">No MetSyn<br>MetSyn</td>\n",
    "    <td class=\"tg-0pky\">does the individual have metabolic syndrome</td>\n",
    "    <td class=\"tg-0pky\"><span style=\"font-weight:bold;font-style:italic\">target</span></td>\n",
    "  </tr>\n",
    "</tbody>\n",
    "</table>"
   ]
  },
  {
   "cell_type": "markdown",
   "id": "711fb8c5-0463-4a83-8096-a198a0ead5b2",
   "metadata": {},
   "source": [
    "The following sources were used to research the dataset and create this dictionary.  The only issue was the 'UrAlbCre' feature.  After researching the various tests done for metabolic syndrome and the values provided, it is assumed that 'UrAlbCr' is the actual levels of albumin in the urine.\n",
    "\n",
    "Images:  https://www.ncbi.nlm.nih.gov/pmc/articles/PMC9479724/\n",
    "\n",
    "https://www.urmc.rochester.edu/encyclopedia/\n",
    "\n",
    "https://www.nhlbi.nih.gov/health/metabolic-syndrome/diagnosis\n",
    "\n",
    "https://my.clevelandclinic.org/health/diseases/10783-metabolic-syndrome"
   ]
  },
  {
   "cell_type": "markdown",
   "id": "9904a740-c13b-4613-ac73-925e87f461c7",
   "metadata": {},
   "source": [
    "**Using the dataset found on Dataworld:** \n",
    "https://data.world/informatics-edu/metabolic-syndrome-prediction"
   ]
  },
  {
   "cell_type": "markdown",
   "id": "75d442e8-8a9e-41b6-a938-ff08dc451da3",
   "metadata": {
    "jp-MarkdownHeadingCollapsed": true
   },
   "source": [
    "### Task: \n",
    "\n",
    "* Explore/clean the data\n",
    "* Exploratory Visualizations\n",
    "    *  Search for trends\n",
    "*  Choose a model\n",
    "    *  Preprocess data\n",
    "    *  Fit and evaluated a default model\n",
    "    *  Extract and visualize the top 10 features using permutation importance\n",
    "    *  Answer: Do these features make sense based on the business case?\n",
    "* Create explanatory visualizations for the most important features\n",
    "    *  Select 2 of the top 10 features from permutation importances and produce explanatory visualizations showing relationship to the target\n",
    "    *  Demonstrate key trends  that are intrest to a stkeholder\n",
    "       - add these to readme\n",
    "       "
   ]
  },
  {
   "cell_type": "markdown",
   "id": "2a69bf03-05a3-4e94-a742-04084c8df807",
   "metadata": {},
   "source": [
    "### Load Dataset"
   ]
  },
  {
   "cell_type": "markdown",
   "id": "d074e6f8-933a-48d9-bfa9-6e6f9dce6f24",
   "metadata": {},
   "source": [
    "#### Imports"
   ]
  },
  {
   "cell_type": "code",
   "execution_count": 1,
   "id": "35432aaa-a31a-4ec5-815d-d91cad14301d",
   "metadata": {},
   "outputs": [],
   "source": [
    "# Imports\n",
    "import matplotlib.pyplot as plt\n",
    "import pandas as pd\n",
    "import numpy as np\n",
    "import seaborn as sns\n",
    "import missingno as msno\n",
    "\n",
    "##Preprocessing\n",
    "from sklearn.model_selection import train_test_split, GridSearchCV\n",
    "from sklearn.metrics import accuracy_score\n",
    "from sklearn.pipeline import make_pipeline\n",
    "from sklearn.impute import SimpleImputer\n",
    "from sklearn.preprocessing import StandardScaler, OneHotEncoder\n",
    "from sklearn.compose import make_column_selector, ColumnTransformer\n",
    "\n",
    "##Models\n",
    "from sklearn.tree import DecisionTreeClassifier\n",
    "from sklearn.ensemble import RandomForestClassifier\n",
    "from sklearn.neighbors import KNeighborsClassifier\n",
    "from sklearn.linear_model import LogisticRegression\n",
    "\n",
    "#Metrics\n",
    "from sklearn.metrics import accuracy_score, recall_score, precision_score, f1_score, classification_report, confusion_matrix, ConfusionMatrixDisplay\n",
    "\n",
    "# Set pandas as the default output for sklearn\n",
    "from sklearn import set_config\n",
    "set_config(transform_output='pandas',\n",
    "           display='diagram')"
   ]
  },
  {
   "cell_type": "code",
   "execution_count": 2,
   "id": "106ba517-408b-44e5-8550-309828110c23",
   "metadata": {},
   "outputs": [],
   "source": [
    "#Define Custom Functions\n",
    "\n",
    "def classification_metrics(y_true, y_pred, label='',\n",
    "                           output_dict=False, figsize=(8,4),\n",
    "                           normalize='true', cmap='Blues',\n",
    "                           colorbar=False):\n",
    "    # Get the classification report\n",
    "    report = classification_report(y_true, y_pred)\n",
    "    ## Print header and report\n",
    "    header = \"-\"*70\n",
    "    print(header, f\" Classification Metrics: {label}\", header, sep='\\n')\n",
    "    print(report)\n",
    "    ## CONFUSION MATRICES SUBPLOTS\n",
    "    fig, axes = plt.subplots(ncols=2, figsize=figsize)\n",
    "    # create a confusion matrix  of raw counts\n",
    "    ConfusionMatrixDisplay.from_predictions(y_true, y_pred,\n",
    "                normalize=None, cmap='gist_gray', colorbar=colorbar,\n",
    "                ax = axes[0],);\n",
    "    axes[0].set_title(\"Raw Counts\")\n",
    "    # create a confusion matrix with the test data\n",
    "    ConfusionMatrixDisplay.from_predictions(y_true, y_pred,\n",
    "                normalize=normalize, cmap=cmap, colorbar=colorbar,\n",
    "                ax = axes[1]);\n",
    "    axes[1].set_title(\"Normalized Confusion Matrix\")\n",
    "    # Adjust layout and show figure\n",
    "    fig.tight_layout()\n",
    "    plt.show()\n",
    "    # Return dictionary of classification_report\n",
    "    if output_dict==True:\n",
    "        report_dict = classification_report(y_true, y_pred, output_dict=True)\n",
    "        return report_dict\n",
    "\n",
    "\n",
    "def evaluate_classification(model, X_train, y_train, X_test, y_test,\n",
    "                         figsize=(6,4), normalize='true', output_dict = False,\n",
    "                            cmap_train='Blues', cmap_test=\"Reds\",colorbar=False):\n",
    "    # Get predictions for training data\n",
    "    y_train_pred = model.predict(X_train)\n",
    "    # Call the helper function to obtain regression metrics for training data\n",
    "    results_train = classification_metrics(y_train, y_train_pred, #verbose = verbose,\n",
    "                                     output_dict=True, figsize=figsize,\n",
    "                                         colorbar=colorbar, cmap=cmap_train,\n",
    "                                     label='Training Data')\n",
    "    print()\n",
    "    # Get predictions for test data\n",
    "    y_test_pred = model.predict(X_test)\n",
    "    # Call the helper function to obtain regression metrics for test data\n",
    "    results_test = classification_metrics(y_test, y_test_pred, #verbose = verbose,\n",
    "                                  output_dict=True,figsize=figsize,\n",
    "                                         colorbar=colorbar, cmap=cmap_test,\n",
    "                                    label='Test Data' )\n",
    "    if output_dict == True:\n",
    "        # Store results in a dataframe if ouput_frame is True\n",
    "        results_dict = {'train':results_train,\n",
    "                    'test': results_test}\n",
    "        return results_dict\n"
   ]
  },
  {
   "cell_type": "code",
   "execution_count": 3,
   "id": "2c357bf9-eb42-4f92-9950-7929eb8412e9",
   "metadata": {},
   "outputs": [
    {
     "data": {
      "text/html": [
       "<div>\n",
       "<style scoped>\n",
       "    .dataframe tbody tr th:only-of-type {\n",
       "        vertical-align: middle;\n",
       "    }\n",
       "\n",
       "    .dataframe tbody tr th {\n",
       "        vertical-align: top;\n",
       "    }\n",
       "\n",
       "    .dataframe thead th {\n",
       "        text-align: right;\n",
       "    }\n",
       "</style>\n",
       "<table border=\"1\" class=\"dataframe\">\n",
       "  <thead>\n",
       "    <tr style=\"text-align: right;\">\n",
       "      <th></th>\n",
       "      <th>Age</th>\n",
       "      <th>Sex</th>\n",
       "      <th>Marital</th>\n",
       "      <th>Income</th>\n",
       "      <th>Race</th>\n",
       "      <th>WaistCirc</th>\n",
       "      <th>BMI</th>\n",
       "      <th>Albuminuria</th>\n",
       "      <th>UrAlbCr</th>\n",
       "      <th>UricAcid</th>\n",
       "      <th>BloodGlucose</th>\n",
       "      <th>HDL</th>\n",
       "      <th>Triglycerides</th>\n",
       "      <th>MetabolicSyndrome</th>\n",
       "    </tr>\n",
       "    <tr>\n",
       "      <th>seqn</th>\n",
       "      <th></th>\n",
       "      <th></th>\n",
       "      <th></th>\n",
       "      <th></th>\n",
       "      <th></th>\n",
       "      <th></th>\n",
       "      <th></th>\n",
       "      <th></th>\n",
       "      <th></th>\n",
       "      <th></th>\n",
       "      <th></th>\n",
       "      <th></th>\n",
       "      <th></th>\n",
       "      <th></th>\n",
       "    </tr>\n",
       "  </thead>\n",
       "  <tbody>\n",
       "    <tr>\n",
       "      <th>62161</th>\n",
       "      <td>22</td>\n",
       "      <td>Male</td>\n",
       "      <td>Single</td>\n",
       "      <td>8200.0</td>\n",
       "      <td>White</td>\n",
       "      <td>81.0</td>\n",
       "      <td>23.3</td>\n",
       "      <td>0</td>\n",
       "      <td>3.88</td>\n",
       "      <td>4.9</td>\n",
       "      <td>92</td>\n",
       "      <td>41</td>\n",
       "      <td>84</td>\n",
       "      <td>No MetSyn</td>\n",
       "    </tr>\n",
       "    <tr>\n",
       "      <th>62164</th>\n",
       "      <td>44</td>\n",
       "      <td>Female</td>\n",
       "      <td>Married</td>\n",
       "      <td>4500.0</td>\n",
       "      <td>White</td>\n",
       "      <td>80.1</td>\n",
       "      <td>23.2</td>\n",
       "      <td>0</td>\n",
       "      <td>8.55</td>\n",
       "      <td>4.5</td>\n",
       "      <td>82</td>\n",
       "      <td>28</td>\n",
       "      <td>56</td>\n",
       "      <td>No MetSyn</td>\n",
       "    </tr>\n",
       "    <tr>\n",
       "      <th>62169</th>\n",
       "      <td>21</td>\n",
       "      <td>Male</td>\n",
       "      <td>Single</td>\n",
       "      <td>800.0</td>\n",
       "      <td>Asian</td>\n",
       "      <td>69.6</td>\n",
       "      <td>20.1</td>\n",
       "      <td>0</td>\n",
       "      <td>5.07</td>\n",
       "      <td>5.4</td>\n",
       "      <td>107</td>\n",
       "      <td>43</td>\n",
       "      <td>78</td>\n",
       "      <td>No MetSyn</td>\n",
       "    </tr>\n",
       "    <tr>\n",
       "      <th>62172</th>\n",
       "      <td>43</td>\n",
       "      <td>Female</td>\n",
       "      <td>Single</td>\n",
       "      <td>2000.0</td>\n",
       "      <td>Black</td>\n",
       "      <td>120.4</td>\n",
       "      <td>33.3</td>\n",
       "      <td>0</td>\n",
       "      <td>5.22</td>\n",
       "      <td>5.0</td>\n",
       "      <td>104</td>\n",
       "      <td>73</td>\n",
       "      <td>141</td>\n",
       "      <td>No MetSyn</td>\n",
       "    </tr>\n",
       "    <tr>\n",
       "      <th>62177</th>\n",
       "      <td>51</td>\n",
       "      <td>Male</td>\n",
       "      <td>Married</td>\n",
       "      <td>NaN</td>\n",
       "      <td>Asian</td>\n",
       "      <td>81.1</td>\n",
       "      <td>20.1</td>\n",
       "      <td>0</td>\n",
       "      <td>8.13</td>\n",
       "      <td>5.0</td>\n",
       "      <td>95</td>\n",
       "      <td>43</td>\n",
       "      <td>126</td>\n",
       "      <td>No MetSyn</td>\n",
       "    </tr>\n",
       "  </tbody>\n",
       "</table>\n",
       "</div>"
      ],
      "text/plain": [
       "       Age     Sex  Marital  Income   Race  WaistCirc   BMI  Albuminuria  \\\n",
       "seqn                                                                       \n",
       "62161   22    Male   Single  8200.0  White       81.0  23.3            0   \n",
       "62164   44  Female  Married  4500.0  White       80.1  23.2            0   \n",
       "62169   21    Male   Single   800.0  Asian       69.6  20.1            0   \n",
       "62172   43  Female   Single  2000.0  Black      120.4  33.3            0   \n",
       "62177   51    Male  Married     NaN  Asian       81.1  20.1            0   \n",
       "\n",
       "       UrAlbCr  UricAcid  BloodGlucose  HDL  Triglycerides MetabolicSyndrome  \n",
       "seqn                                                                          \n",
       "62161     3.88       4.9            92   41             84         No MetSyn  \n",
       "62164     8.55       4.5            82   28             56         No MetSyn  \n",
       "62169     5.07       5.4           107   43             78         No MetSyn  \n",
       "62172     5.22       5.0           104   73            141         No MetSyn  \n",
       "62177     8.13       5.0            95   43            126         No MetSyn  "
      ]
     },
     "execution_count": 3,
     "metadata": {},
     "output_type": "execute_result"
    }
   ],
   "source": [
    "data = pd.read_csv(\"data/Metabolic  Syndrome.csv\")\n",
    "data = data.set_index('seqn')\n",
    "data.head()"
   ]
  },
  {
   "cell_type": "code",
   "execution_count": 4,
   "id": "e2a0a09d-8366-4245-b826-534af60773ad",
   "metadata": {},
   "outputs": [
    {
     "name": "stdout",
     "output_type": "stream",
     "text": [
      "<class 'pandas.core.frame.DataFrame'>\n",
      "Int64Index: 2401 entries, 62161 to 71915\n",
      "Data columns (total 14 columns):\n",
      " #   Column             Non-Null Count  Dtype  \n",
      "---  ------             --------------  -----  \n",
      " 0   Age                2401 non-null   int64  \n",
      " 1   Sex                2401 non-null   object \n",
      " 2   Marital            2193 non-null   object \n",
      " 3   Income             2284 non-null   float64\n",
      " 4   Race               2401 non-null   object \n",
      " 5   WaistCirc          2316 non-null   float64\n",
      " 6   BMI                2375 non-null   float64\n",
      " 7   Albuminuria        2401 non-null   int64  \n",
      " 8   UrAlbCr            2401 non-null   float64\n",
      " 9   UricAcid           2401 non-null   float64\n",
      " 10  BloodGlucose       2401 non-null   int64  \n",
      " 11  HDL                2401 non-null   int64  \n",
      " 12  Triglycerides      2401 non-null   int64  \n",
      " 13  MetabolicSyndrome  2401 non-null   object \n",
      "dtypes: float64(5), int64(5), object(4)\n",
      "memory usage: 281.4+ KB\n"
     ]
    }
   ],
   "source": [
    "data.info()"
   ]
  },
  {
   "cell_type": "markdown",
   "id": "7181e837-23d5-412c-8958-26e1dc153b79",
   "metadata": {},
   "source": [
    "### Explore Data:"
   ]
  },
  {
   "cell_type": "markdown",
   "id": "5c355ef5-db44-46d2-9e93-abf3fdec2b3f",
   "metadata": {},
   "source": [
    "#### Check for Duplicates"
   ]
  },
  {
   "cell_type": "code",
   "execution_count": 5,
   "id": "5289b845-6153-4478-80c8-581f1798fd52",
   "metadata": {},
   "outputs": [],
   "source": [
    "df=data.copy()"
   ]
  },
  {
   "cell_type": "code",
   "execution_count": 6,
   "id": "d08ee09d-4100-462b-b15d-0005b692906d",
   "metadata": {},
   "outputs": [
    {
     "data": {
      "text/plain": [
       "0"
      ]
     },
     "execution_count": 6,
     "metadata": {},
     "output_type": "execute_result"
    }
   ],
   "source": [
    "df.duplicated().sum()"
   ]
  },
  {
   "cell_type": "code",
   "execution_count": 7,
   "id": "924e0c6f-884f-44b1-b75a-58b8243b9ad5",
   "metadata": {},
   "outputs": [
    {
     "data": {
      "text/plain": [
       "(2401, 14)"
      ]
     },
     "execution_count": 7,
     "metadata": {},
     "output_type": "execute_result"
    }
   ],
   "source": [
    "df.shape"
   ]
  },
  {
   "cell_type": "markdown",
   "id": "61982980-cc3c-412c-aec9-90fa38573918",
   "metadata": {},
   "source": [
    "#### Check for Consistency"
   ]
  },
  {
   "cell_type": "code",
   "execution_count": 8,
   "id": "7fc5504b-a2b0-4169-8bf9-aa43d4d44be5",
   "metadata": {},
   "outputs": [
    {
     "data": {
      "text/plain": [
       "Age                    61\n",
       "Sex                     2\n",
       "Marital                 5\n",
       "Income                 14\n",
       "Race                    6\n",
       "WaistCirc             635\n",
       "BMI                   322\n",
       "Albuminuria             3\n",
       "UrAlbCr              1383\n",
       "UricAcid               88\n",
       "BloodGlucose          187\n",
       "HDL                    93\n",
       "Triglycerides         345\n",
       "MetabolicSyndrome       2\n",
       "dtype: int64"
      ]
     },
     "execution_count": 8,
     "metadata": {},
     "output_type": "execute_result"
    }
   ],
   "source": [
    "df.nunique()"
   ]
  },
  {
   "cell_type": "markdown",
   "id": "a3ce6dc0-6150-49d1-abaa-37a8dd73d1cc",
   "metadata": {},
   "source": [
    "***Initial Observations***\n",
    "* There are 2401 rows\n",
    "* There are 13 features\n",
    "* seqn was set as index\n",
    "* Marital, WaistCirc, Income, and BMI have null values\n",
    "* There are the expected number of unique values for the features\n",
    "* Will rename columns for ease\n",
    "* What is UrAlbCr?\n",
    "* There are the following dtypes:\n",
    "  * float64(5), int64(5), object(4)\n",
    "  * Albuminaria - is this dtype wrong?"
   ]
  },
  {
   "cell_type": "code",
   "execution_count": 9,
   "id": "29fc121f-649a-433f-aa01-bbf176075d8b",
   "metadata": {},
   "outputs": [
    {
     "data": {
      "text/html": [
       "<div>\n",
       "<style scoped>\n",
       "    .dataframe tbody tr th:only-of-type {\n",
       "        vertical-align: middle;\n",
       "    }\n",
       "\n",
       "    .dataframe tbody tr th {\n",
       "        vertical-align: top;\n",
       "    }\n",
       "\n",
       "    .dataframe thead th {\n",
       "        text-align: right;\n",
       "    }\n",
       "</style>\n",
       "<table border=\"1\" class=\"dataframe\">\n",
       "  <thead>\n",
       "    <tr style=\"text-align: right;\">\n",
       "      <th></th>\n",
       "      <th>Age</th>\n",
       "      <th>Income</th>\n",
       "      <th>WaistCirc</th>\n",
       "      <th>BMI</th>\n",
       "      <th>Albuminuria</th>\n",
       "      <th>UrAlbCr</th>\n",
       "      <th>UricAcid</th>\n",
       "      <th>BloodGlucose</th>\n",
       "      <th>HDL</th>\n",
       "      <th>Triglycerides</th>\n",
       "    </tr>\n",
       "  </thead>\n",
       "  <tbody>\n",
       "    <tr>\n",
       "      <th>count</th>\n",
       "      <td>2401.000000</td>\n",
       "      <td>2284.000000</td>\n",
       "      <td>2316.000000</td>\n",
       "      <td>2375.000000</td>\n",
       "      <td>2401.000000</td>\n",
       "      <td>2401.000000</td>\n",
       "      <td>2401.000000</td>\n",
       "      <td>2401.000000</td>\n",
       "      <td>2401.000000</td>\n",
       "      <td>2401.000000</td>\n",
       "    </tr>\n",
       "    <tr>\n",
       "      <th>mean</th>\n",
       "      <td>48.691795</td>\n",
       "      <td>4005.253940</td>\n",
       "      <td>98.307254</td>\n",
       "      <td>28.702189</td>\n",
       "      <td>0.154102</td>\n",
       "      <td>43.626131</td>\n",
       "      <td>5.489046</td>\n",
       "      <td>108.247813</td>\n",
       "      <td>53.369429</td>\n",
       "      <td>128.125364</td>\n",
       "    </tr>\n",
       "    <tr>\n",
       "      <th>std</th>\n",
       "      <td>17.632852</td>\n",
       "      <td>2954.032186</td>\n",
       "      <td>16.252634</td>\n",
       "      <td>6.662242</td>\n",
       "      <td>0.422780</td>\n",
       "      <td>258.272829</td>\n",
       "      <td>1.439358</td>\n",
       "      <td>34.820657</td>\n",
       "      <td>15.185537</td>\n",
       "      <td>95.322477</td>\n",
       "    </tr>\n",
       "    <tr>\n",
       "      <th>min</th>\n",
       "      <td>20.000000</td>\n",
       "      <td>300.000000</td>\n",
       "      <td>56.200000</td>\n",
       "      <td>13.400000</td>\n",
       "      <td>0.000000</td>\n",
       "      <td>1.400000</td>\n",
       "      <td>1.800000</td>\n",
       "      <td>39.000000</td>\n",
       "      <td>14.000000</td>\n",
       "      <td>26.000000</td>\n",
       "    </tr>\n",
       "    <tr>\n",
       "      <th>25%</th>\n",
       "      <td>34.000000</td>\n",
       "      <td>1600.000000</td>\n",
       "      <td>86.675000</td>\n",
       "      <td>24.000000</td>\n",
       "      <td>0.000000</td>\n",
       "      <td>4.450000</td>\n",
       "      <td>4.500000</td>\n",
       "      <td>92.000000</td>\n",
       "      <td>43.000000</td>\n",
       "      <td>75.000000</td>\n",
       "    </tr>\n",
       "    <tr>\n",
       "      <th>50%</th>\n",
       "      <td>48.000000</td>\n",
       "      <td>2500.000000</td>\n",
       "      <td>97.000000</td>\n",
       "      <td>27.700000</td>\n",
       "      <td>0.000000</td>\n",
       "      <td>7.070000</td>\n",
       "      <td>5.400000</td>\n",
       "      <td>99.000000</td>\n",
       "      <td>51.000000</td>\n",
       "      <td>103.000000</td>\n",
       "    </tr>\n",
       "    <tr>\n",
       "      <th>75%</th>\n",
       "      <td>63.000000</td>\n",
       "      <td>6200.000000</td>\n",
       "      <td>107.625000</td>\n",
       "      <td>32.100000</td>\n",
       "      <td>0.000000</td>\n",
       "      <td>13.690000</td>\n",
       "      <td>6.400000</td>\n",
       "      <td>110.000000</td>\n",
       "      <td>62.000000</td>\n",
       "      <td>150.000000</td>\n",
       "    </tr>\n",
       "    <tr>\n",
       "      <th>max</th>\n",
       "      <td>80.000000</td>\n",
       "      <td>9000.000000</td>\n",
       "      <td>176.000000</td>\n",
       "      <td>68.700000</td>\n",
       "      <td>2.000000</td>\n",
       "      <td>5928.000000</td>\n",
       "      <td>11.300000</td>\n",
       "      <td>382.000000</td>\n",
       "      <td>156.000000</td>\n",
       "      <td>1562.000000</td>\n",
       "    </tr>\n",
       "  </tbody>\n",
       "</table>\n",
       "</div>"
      ],
      "text/plain": [
       "               Age       Income    WaistCirc          BMI  Albuminuria  \\\n",
       "count  2401.000000  2284.000000  2316.000000  2375.000000  2401.000000   \n",
       "mean     48.691795  4005.253940    98.307254    28.702189     0.154102   \n",
       "std      17.632852  2954.032186    16.252634     6.662242     0.422780   \n",
       "min      20.000000   300.000000    56.200000    13.400000     0.000000   \n",
       "25%      34.000000  1600.000000    86.675000    24.000000     0.000000   \n",
       "50%      48.000000  2500.000000    97.000000    27.700000     0.000000   \n",
       "75%      63.000000  6200.000000   107.625000    32.100000     0.000000   \n",
       "max      80.000000  9000.000000   176.000000    68.700000     2.000000   \n",
       "\n",
       "           UrAlbCr     UricAcid  BloodGlucose          HDL  Triglycerides  \n",
       "count  2401.000000  2401.000000   2401.000000  2401.000000    2401.000000  \n",
       "mean     43.626131     5.489046    108.247813    53.369429     128.125364  \n",
       "std     258.272829     1.439358     34.820657    15.185537      95.322477  \n",
       "min       1.400000     1.800000     39.000000    14.000000      26.000000  \n",
       "25%       4.450000     4.500000     92.000000    43.000000      75.000000  \n",
       "50%       7.070000     5.400000     99.000000    51.000000     103.000000  \n",
       "75%      13.690000     6.400000    110.000000    62.000000     150.000000  \n",
       "max    5928.000000    11.300000    382.000000   156.000000    1562.000000  "
      ]
     },
     "execution_count": 9,
     "metadata": {},
     "output_type": "execute_result"
    }
   ],
   "source": [
    "df.describe()"
   ]
  },
  {
   "cell_type": "markdown",
   "id": "f2597e86-d48c-491c-8ca0-0e4f1357a9a7",
   "metadata": {},
   "source": [
    "* Check the following values:\n",
    "  - tryglycerides 1562\n",
    "  - 156 HDL\n",
    "  - 5982 UrAlbCr"
   ]
  },
  {
   "cell_type": "code",
   "execution_count": 10,
   "id": "d95fdf9f-11ba-4f79-adef-deb855ddef57",
   "metadata": {},
   "outputs": [
    {
     "data": {
      "text/html": [
       "<div>\n",
       "<style scoped>\n",
       "    .dataframe tbody tr th:only-of-type {\n",
       "        vertical-align: middle;\n",
       "    }\n",
       "\n",
       "    .dataframe tbody tr th {\n",
       "        vertical-align: top;\n",
       "    }\n",
       "\n",
       "    .dataframe thead th {\n",
       "        text-align: right;\n",
       "    }\n",
       "</style>\n",
       "<table border=\"1\" class=\"dataframe\">\n",
       "  <thead>\n",
       "    <tr style=\"text-align: right;\">\n",
       "      <th></th>\n",
       "      <th>Sex</th>\n",
       "      <th>Marital</th>\n",
       "      <th>Race</th>\n",
       "      <th>MetabolicSyndrome</th>\n",
       "    </tr>\n",
       "  </thead>\n",
       "  <tbody>\n",
       "    <tr>\n",
       "      <th>count</th>\n",
       "      <td>2401</td>\n",
       "      <td>2193</td>\n",
       "      <td>2401</td>\n",
       "      <td>2401</td>\n",
       "    </tr>\n",
       "    <tr>\n",
       "      <th>unique</th>\n",
       "      <td>2</td>\n",
       "      <td>5</td>\n",
       "      <td>6</td>\n",
       "      <td>2</td>\n",
       "    </tr>\n",
       "    <tr>\n",
       "      <th>top</th>\n",
       "      <td>Female</td>\n",
       "      <td>Married</td>\n",
       "      <td>White</td>\n",
       "      <td>No MetSyn</td>\n",
       "    </tr>\n",
       "    <tr>\n",
       "      <th>freq</th>\n",
       "      <td>1211</td>\n",
       "      <td>1192</td>\n",
       "      <td>933</td>\n",
       "      <td>1579</td>\n",
       "    </tr>\n",
       "  </tbody>\n",
       "</table>\n",
       "</div>"
      ],
      "text/plain": [
       "           Sex  Marital   Race MetabolicSyndrome\n",
       "count     2401     2193   2401              2401\n",
       "unique       2        5      6                 2\n",
       "top     Female  Married  White         No MetSyn\n",
       "freq      1211     1192    933              1579"
      ]
     },
     "execution_count": 10,
     "metadata": {},
     "output_type": "execute_result"
    }
   ],
   "source": [
    "df.describe(exclude='number')"
   ]
  },
  {
   "cell_type": "markdown",
   "id": "c8fd3160-49cf-45c8-aa11-8d096dd8df04",
   "metadata": {},
   "source": [
    "***The datatype for 'Albuminuria' needs to be changed to int.  It is an ordinal number not a float.**"
   ]
  },
  {
   "cell_type": "code",
   "execution_count": 11,
   "id": "35f966b2-8814-468d-832b-7603a45bbaef",
   "metadata": {},
   "outputs": [],
   "source": [
    "df['Albuminuria']=df['Albuminuria'].astype(int)"
   ]
  },
  {
   "cell_type": "code",
   "execution_count": 12,
   "id": "2c87ec3e-bd6e-47bc-b3e0-ca1bd6261204",
   "metadata": {},
   "outputs": [
    {
     "data": {
      "text/plain": [
       "dtype('int32')"
      ]
     },
     "execution_count": 12,
     "metadata": {},
     "output_type": "execute_result"
    }
   ],
   "source": [
    "df['Albuminuria'].dtype"
   ]
  },
  {
   "cell_type": "code",
   "execution_count": 13,
   "id": "6eae03d4-697d-4a0a-94cb-06c8440b8262",
   "metadata": {},
   "outputs": [
    {
     "data": {
      "text/html": [
       "<div>\n",
       "<style scoped>\n",
       "    .dataframe tbody tr th:only-of-type {\n",
       "        vertical-align: middle;\n",
       "    }\n",
       "\n",
       "    .dataframe tbody tr th {\n",
       "        vertical-align: top;\n",
       "    }\n",
       "\n",
       "    .dataframe thead th {\n",
       "        text-align: right;\n",
       "    }\n",
       "</style>\n",
       "<table border=\"1\" class=\"dataframe\">\n",
       "  <thead>\n",
       "    <tr style=\"text-align: right;\">\n",
       "      <th></th>\n",
       "      <th>Age</th>\n",
       "      <th>Sex</th>\n",
       "      <th>Marital</th>\n",
       "      <th>Income</th>\n",
       "      <th>Race</th>\n",
       "      <th>Waist</th>\n",
       "      <th>BMI</th>\n",
       "      <th>AlbRating</th>\n",
       "      <th>AlbLevel</th>\n",
       "      <th>UricAcid</th>\n",
       "      <th>Glucose</th>\n",
       "      <th>HDL</th>\n",
       "      <th>Triglycerides</th>\n",
       "      <th>MetS</th>\n",
       "    </tr>\n",
       "    <tr>\n",
       "      <th>seqn</th>\n",
       "      <th></th>\n",
       "      <th></th>\n",
       "      <th></th>\n",
       "      <th></th>\n",
       "      <th></th>\n",
       "      <th></th>\n",
       "      <th></th>\n",
       "      <th></th>\n",
       "      <th></th>\n",
       "      <th></th>\n",
       "      <th></th>\n",
       "      <th></th>\n",
       "      <th></th>\n",
       "      <th></th>\n",
       "    </tr>\n",
       "  </thead>\n",
       "  <tbody>\n",
       "    <tr>\n",
       "      <th>62161</th>\n",
       "      <td>22</td>\n",
       "      <td>Male</td>\n",
       "      <td>Single</td>\n",
       "      <td>8200.0</td>\n",
       "      <td>White</td>\n",
       "      <td>81.0</td>\n",
       "      <td>23.3</td>\n",
       "      <td>0</td>\n",
       "      <td>3.88</td>\n",
       "      <td>4.9</td>\n",
       "      <td>92</td>\n",
       "      <td>41</td>\n",
       "      <td>84</td>\n",
       "      <td>No MetSyn</td>\n",
       "    </tr>\n",
       "    <tr>\n",
       "      <th>62164</th>\n",
       "      <td>44</td>\n",
       "      <td>Female</td>\n",
       "      <td>Married</td>\n",
       "      <td>4500.0</td>\n",
       "      <td>White</td>\n",
       "      <td>80.1</td>\n",
       "      <td>23.2</td>\n",
       "      <td>0</td>\n",
       "      <td>8.55</td>\n",
       "      <td>4.5</td>\n",
       "      <td>82</td>\n",
       "      <td>28</td>\n",
       "      <td>56</td>\n",
       "      <td>No MetSyn</td>\n",
       "    </tr>\n",
       "  </tbody>\n",
       "</table>\n",
       "</div>"
      ],
      "text/plain": [
       "       Age     Sex  Marital  Income   Race  Waist   BMI  AlbRating  AlbLevel  \\\n",
       "seqn                                                                           \n",
       "62161   22    Male   Single  8200.0  White   81.0  23.3          0      3.88   \n",
       "62164   44  Female  Married  4500.0  White   80.1  23.2          0      8.55   \n",
       "\n",
       "       UricAcid  Glucose  HDL  Triglycerides       MetS  \n",
       "seqn                                                     \n",
       "62161       4.9       92   41             84  No MetSyn  \n",
       "62164       4.5       82   28             56  No MetSyn  "
      ]
     },
     "execution_count": 13,
     "metadata": {},
     "output_type": "execute_result"
    }
   ],
   "source": [
    "# Rename columns to make life easier\n",
    "rename_dict = {'MetabolicSyndrome': 'MetS', 'WaistCirc': 'Waist', 'BloodGlucose': 'Glucose',\n",
    "               'UrAlbCr': 'AlbLevel', 'Albuminuria': 'AlbRating'}\n",
    "df = df.rename(rename_dict, axis=1)\n",
    "df.head(2)"
   ]
  },
  {
   "cell_type": "code",
   "execution_count": null,
   "id": "709b8944-6140-499d-bd0d-036eb64b15f8",
   "metadata": {},
   "outputs": [],
   "source": []
  },
  {
   "cell_type": "markdown",
   "id": "233b44f9-69ae-4ba5-9417-94fe2251c28e",
   "metadata": {},
   "source": [
    "#### Check for null values"
   ]
  },
  {
   "cell_type": "code",
   "execution_count": 14,
   "id": "e0cacde3-fbec-4fdb-9e64-b66e964b443a",
   "metadata": {},
   "outputs": [
    {
     "data": {
      "text/plain": [
       "Age                0\n",
       "Sex                0\n",
       "Marital          208\n",
       "Income           117\n",
       "Race               0\n",
       "Waist             85\n",
       "BMI               26\n",
       "AlbRating          0\n",
       "AlbLevel           0\n",
       "UricAcid           0\n",
       "Glucose            0\n",
       "HDL                0\n",
       "Triglycerides      0\n",
       "MetS               0\n",
       "dtype: int64"
      ]
     },
     "execution_count": 14,
     "metadata": {},
     "output_type": "execute_result"
    }
   ],
   "source": [
    "df.isna().sum()"
   ]
  },
  {
   "cell_type": "code",
   "execution_count": 15,
   "id": "648a22cc-19a8-4402-8aa2-8f75319c1d97",
   "metadata": {},
   "outputs": [
    {
     "data": {
      "text/plain": [
       "<Axes: >"
      ]
     },
     "execution_count": 15,
     "metadata": {},
     "output_type": "execute_result"
    },
    {
     "data": {
      "image/png": "[encoded data removed]",
      "text/plain": [
       "<Figure size 2500x1000 with 2 Axes>"
      ]
     },
     "metadata": {},
     "output_type": "display_data"
    }
   ],
   "source": [
    "msno.matrix(df)"
   ]
  },
  {
   "cell_type": "markdown",
   "id": "ccb16a84-39b1-469d-9389-b67320940d72",
   "metadata": {},
   "source": [
    "#### Isolate columns by dtype to impute nulls for exploratory analysis "
   ]
  },
  {
   "cell_type": "code",
   "execution_count": 16,
   "id": "82503cb0-fb07-40bb-ba09-97d8e3472494",
   "metadata": {},
   "outputs": [],
   "source": [
    "df2=df.copy()"
   ]
  },
  {
   "cell_type": "code",
   "execution_count": 17,
   "id": "144f5559-2466-4841-a73b-c2ac46fb2d53",
   "metadata": {},
   "outputs": [
    {
     "data": {
      "text/plain": [
       "Index(['Sex', 'Marital', 'Race', 'MetS'], dtype='object')"
      ]
     },
     "execution_count": 17,
     "metadata": {},
     "output_type": "execute_result"
    }
   ],
   "source": [
    "cat_cols = df2.select_dtypes('object').columns\n",
    "cat_cols"
   ]
  },
  {
   "cell_type": "code",
   "execution_count": null,
   "id": "0e14983c-efe6-4c96-adec-3979450b50bd",
   "metadata": {},
   "outputs": [],
   "source": []
  },
  {
   "cell_type": "code",
   "execution_count": 18,
   "id": "17e710b9-f3b4-418e-9957-6b7b14ba24b6",
   "metadata": {},
   "outputs": [
    {
     "data": {
      "text/plain": [
       "seqn\n",
       "62161    0\n",
       "62164    0\n",
       "62169    0\n",
       "62172    0\n",
       "62177    0\n",
       "        ..\n",
       "71901    0\n",
       "71904    0\n",
       "71909    0\n",
       "71911    0\n",
       "71915    0\n",
       "Name: AlbRating, Length: 2401, dtype: int32"
      ]
     },
     "execution_count": 18,
     "metadata": {},
     "output_type": "execute_result"
    }
   ],
   "source": [
    "ord_cols = df2['AlbRating']\n",
    "ord_cols"
   ]
  },
  {
   "cell_type": "code",
   "execution_count": 19,
   "id": "00e9c5dd-57a6-41f2-b718-31396dc30f9d",
   "metadata": {},
   "outputs": [
    {
     "data": {
      "text/html": [
       "<div>\n",
       "<style scoped>\n",
       "    .dataframe tbody tr th:only-of-type {\n",
       "        vertical-align: middle;\n",
       "    }\n",
       "\n",
       "    .dataframe tbody tr th {\n",
       "        vertical-align: top;\n",
       "    }\n",
       "\n",
       "    .dataframe thead th {\n",
       "        text-align: right;\n",
       "    }\n",
       "</style>\n",
       "<table border=\"1\" class=\"dataframe\">\n",
       "  <thead>\n",
       "    <tr style=\"text-align: right;\">\n",
       "      <th></th>\n",
       "      <th>Age</th>\n",
       "      <th>Income</th>\n",
       "      <th>Waist</th>\n",
       "      <th>BMI</th>\n",
       "      <th>AlbLevel</th>\n",
       "      <th>UricAcid</th>\n",
       "      <th>Glucose</th>\n",
       "      <th>HDL</th>\n",
       "      <th>Triglycerides</th>\n",
       "    </tr>\n",
       "    <tr>\n",
       "      <th>seqn</th>\n",
       "      <th></th>\n",
       "      <th></th>\n",
       "      <th></th>\n",
       "      <th></th>\n",
       "      <th></th>\n",
       "      <th></th>\n",
       "      <th></th>\n",
       "      <th></th>\n",
       "      <th></th>\n",
       "    </tr>\n",
       "  </thead>\n",
       "  <tbody>\n",
       "    <tr>\n",
       "      <th>62161</th>\n",
       "      <td>22</td>\n",
       "      <td>8200.0</td>\n",
       "      <td>81.0</td>\n",
       "      <td>23.3</td>\n",
       "      <td>3.88</td>\n",
       "      <td>4.9</td>\n",
       "      <td>92</td>\n",
       "      <td>41</td>\n",
       "      <td>84</td>\n",
       "    </tr>\n",
       "    <tr>\n",
       "      <th>62164</th>\n",
       "      <td>44</td>\n",
       "      <td>4500.0</td>\n",
       "      <td>80.1</td>\n",
       "      <td>23.2</td>\n",
       "      <td>8.55</td>\n",
       "      <td>4.5</td>\n",
       "      <td>82</td>\n",
       "      <td>28</td>\n",
       "      <td>56</td>\n",
       "    </tr>\n",
       "    <tr>\n",
       "      <th>62169</th>\n",
       "      <td>21</td>\n",
       "      <td>800.0</td>\n",
       "      <td>69.6</td>\n",
       "      <td>20.1</td>\n",
       "      <td>5.07</td>\n",
       "      <td>5.4</td>\n",
       "      <td>107</td>\n",
       "      <td>43</td>\n",
       "      <td>78</td>\n",
       "    </tr>\n",
       "    <tr>\n",
       "      <th>62172</th>\n",
       "      <td>43</td>\n",
       "      <td>2000.0</td>\n",
       "      <td>120.4</td>\n",
       "      <td>33.3</td>\n",
       "      <td>5.22</td>\n",
       "      <td>5.0</td>\n",
       "      <td>104</td>\n",
       "      <td>73</td>\n",
       "      <td>141</td>\n",
       "    </tr>\n",
       "    <tr>\n",
       "      <th>62177</th>\n",
       "      <td>51</td>\n",
       "      <td>NaN</td>\n",
       "      <td>81.1</td>\n",
       "      <td>20.1</td>\n",
       "      <td>8.13</td>\n",
       "      <td>5.0</td>\n",
       "      <td>95</td>\n",
       "      <td>43</td>\n",
       "      <td>126</td>\n",
       "    </tr>\n",
       "    <tr>\n",
       "      <th>...</th>\n",
       "      <td>...</td>\n",
       "      <td>...</td>\n",
       "      <td>...</td>\n",
       "      <td>...</td>\n",
       "      <td>...</td>\n",
       "      <td>...</td>\n",
       "      <td>...</td>\n",
       "      <td>...</td>\n",
       "      <td>...</td>\n",
       "    </tr>\n",
       "    <tr>\n",
       "      <th>71901</th>\n",
       "      <td>48</td>\n",
       "      <td>1000.0</td>\n",
       "      <td>NaN</td>\n",
       "      <td>59.7</td>\n",
       "      <td>22.11</td>\n",
       "      <td>5.8</td>\n",
       "      <td>152</td>\n",
       "      <td>57</td>\n",
       "      <td>107</td>\n",
       "    </tr>\n",
       "    <tr>\n",
       "      <th>71904</th>\n",
       "      <td>30</td>\n",
       "      <td>2000.0</td>\n",
       "      <td>NaN</td>\n",
       "      <td>18.0</td>\n",
       "      <td>2.90</td>\n",
       "      <td>7.9</td>\n",
       "      <td>91</td>\n",
       "      <td>90</td>\n",
       "      <td>91</td>\n",
       "    </tr>\n",
       "    <tr>\n",
       "      <th>71909</th>\n",
       "      <td>28</td>\n",
       "      <td>800.0</td>\n",
       "      <td>100.8</td>\n",
       "      <td>29.4</td>\n",
       "      <td>2.78</td>\n",
       "      <td>6.2</td>\n",
       "      <td>99</td>\n",
       "      <td>47</td>\n",
       "      <td>84</td>\n",
       "    </tr>\n",
       "    <tr>\n",
       "      <th>71911</th>\n",
       "      <td>27</td>\n",
       "      <td>8200.0</td>\n",
       "      <td>106.6</td>\n",
       "      <td>31.3</td>\n",
       "      <td>4.15</td>\n",
       "      <td>6.2</td>\n",
       "      <td>100</td>\n",
       "      <td>41</td>\n",
       "      <td>124</td>\n",
       "    </tr>\n",
       "    <tr>\n",
       "      <th>71915</th>\n",
       "      <td>60</td>\n",
       "      <td>6200.0</td>\n",
       "      <td>106.6</td>\n",
       "      <td>27.5</td>\n",
       "      <td>12.82</td>\n",
       "      <td>5.2</td>\n",
       "      <td>91</td>\n",
       "      <td>36</td>\n",
       "      <td>226</td>\n",
       "    </tr>\n",
       "  </tbody>\n",
       "</table>\n",
       "<p>2401 rows × 9 columns</p>\n",
       "</div>"
      ],
      "text/plain": [
       "       Age  Income  Waist   BMI  AlbLevel  UricAcid  Glucose  HDL  \\\n",
       "seqn                                                                \n",
       "62161   22  8200.0   81.0  23.3      3.88       4.9       92   41   \n",
       "62164   44  4500.0   80.1  23.2      8.55       4.5       82   28   \n",
       "62169   21   800.0   69.6  20.1      5.07       5.4      107   43   \n",
       "62172   43  2000.0  120.4  33.3      5.22       5.0      104   73   \n",
       "62177   51     NaN   81.1  20.1      8.13       5.0       95   43   \n",
       "...    ...     ...    ...   ...       ...       ...      ...  ...   \n",
       "71901   48  1000.0    NaN  59.7     22.11       5.8      152   57   \n",
       "71904   30  2000.0    NaN  18.0      2.90       7.9       91   90   \n",
       "71909   28   800.0  100.8  29.4      2.78       6.2       99   47   \n",
       "71911   27  8200.0  106.6  31.3      4.15       6.2      100   41   \n",
       "71915   60  6200.0  106.6  27.5     12.82       5.2       91   36   \n",
       "\n",
       "       Triglycerides  \n",
       "seqn                  \n",
       "62161             84  \n",
       "62164             56  \n",
       "62169             78  \n",
       "62172            141  \n",
       "62177            126  \n",
       "...              ...  \n",
       "71901            107  \n",
       "71904             91  \n",
       "71909             84  \n",
       "71911            124  \n",
       "71915            226  \n",
       "\n",
       "[2401 rows x 9 columns]"
      ]
     },
     "execution_count": 19,
     "metadata": {},
     "output_type": "execute_result"
    }
   ],
   "source": [
    "num_cols = df2.select_dtypes('number')#.drop(columns=ord_cols)\n",
    "num_cols = num_cols.drop(columns='AlbRating')\n",
    "num_cols"
   ]
  },
  {
   "cell_type": "markdown",
   "id": "79e29ae4-1389-4330-b700-8bae6a1ef636",
   "metadata": {},
   "source": [
    "### Impute Nulls for Analysis"
   ]
  },
  {
   "cell_type": "code",
   "execution_count": 20,
   "id": "2175ae4b-c842-4564-989f-e2482ffa6d9c",
   "metadata": {},
   "outputs": [
    {
     "data": {
      "text/plain": [
       "Sex          0\n",
       "Marital    208\n",
       "Race         0\n",
       "MetS         0\n",
       "dtype: int64"
      ]
     },
     "execution_count": 20,
     "metadata": {},
     "output_type": "execute_result"
    }
   ],
   "source": [
    "df2[cat_cols].isna().sum()"
   ]
  },
  {
   "cell_type": "code",
   "execution_count": 21,
   "id": "b52c12bb-ea15-42c9-a701-4f9463794c39",
   "metadata": {},
   "outputs": [
    {
     "data": {
      "text/plain": [
       "Married      1192\n",
       "Single        498\n",
       "Divorced      242\n",
       "Missing       208\n",
       "Widowed       166\n",
       "Separated      95\n",
       "Name: Marital, dtype: int64"
      ]
     },
     "execution_count": 21,
     "metadata": {},
     "output_type": "execute_result"
    }
   ],
   "source": [
    "#replace the null value with missing\n",
    "df2['Marital'] = df2['Marital'].fillna('Missing')\n",
    "df2['Marital'].value_counts(dropna = False)"
   ]
  },
  {
   "cell_type": "code",
   "execution_count": 22,
   "id": "ea9a329d-6b09-413d-9127-54b1c0aa3ec5",
   "metadata": {},
   "outputs": [
    {
     "ename": "ValueError",
     "evalue": "Boolean array expected for the condition, not int64",
     "output_type": "error",
     "traceback": [
      "\u001b[1;31m---------------------------------------------------------------------------\u001b[0m",
      "\u001b[1;31mValueError\u001b[0m                                Traceback (most recent call last)",
      "\u001b[1;32m~\\AppData\\Local\\Temp\\ipykernel_31212\\2783049587.py\u001b[0m in \u001b[0;36m?\u001b[1;34m()\u001b[0m\n\u001b[1;32m----> 1\u001b[1;33m \u001b[0mdf2\u001b[0m\u001b[1;33m[\u001b[0m\u001b[0mnum_cols\u001b[0m\u001b[1;33m]\u001b[0m\u001b[1;33m.\u001b[0m\u001b[0misnull\u001b[0m\u001b[1;33m(\u001b[0m\u001b[1;33m)\u001b[0m\u001b[1;33m.\u001b[0m\u001b[0msum\u001b[0m\u001b[1;33m(\u001b[0m\u001b[1;33m)\u001b[0m\u001b[1;33m\u001b[0m\u001b[1;33m\u001b[0m\u001b[0m\n\u001b[0m",
      "\u001b[1;32m~\\anaconda3\\envs\\dojo-env\\lib\\site-packages\\pandas\\core\\frame.py\u001b[0m in \u001b[0;36m?\u001b[1;34m(self, key)\u001b[0m\n\u001b[0;32m   3790\u001b[0m             \u001b[1;32mreturn\u001b[0m \u001b[0mself\u001b[0m\u001b[1;33m.\u001b[0m\u001b[0m_slice\u001b[0m\u001b[1;33m(\u001b[0m\u001b[0mindexer\u001b[0m\u001b[1;33m,\u001b[0m \u001b[0maxis\u001b[0m\u001b[1;33m=\u001b[0m\u001b[1;36m0\u001b[0m\u001b[1;33m)\u001b[0m\u001b[1;33m\u001b[0m\u001b[1;33m\u001b[0m\u001b[0m\n\u001b[0;32m   3791\u001b[0m \u001b[1;33m\u001b[0m\u001b[0m\n\u001b[0;32m   3792\u001b[0m         \u001b[1;31m# Do we have a (boolean) DataFrame?\u001b[0m\u001b[1;33m\u001b[0m\u001b[1;33m\u001b[0m\u001b[0m\n\u001b[0;32m   3793\u001b[0m         \u001b[1;32mif\u001b[0m \u001b[0misinstance\u001b[0m\u001b[1;33m(\u001b[0m\u001b[0mkey\u001b[0m\u001b[1;33m,\u001b[0m \u001b[0mDataFrame\u001b[0m\u001b[1;33m)\u001b[0m\u001b[1;33m:\u001b[0m\u001b[1;33m\u001b[0m\u001b[1;33m\u001b[0m\u001b[0m\n\u001b[1;32m-> 3794\u001b[1;33m             \u001b[1;32mreturn\u001b[0m \u001b[0mself\u001b[0m\u001b[1;33m.\u001b[0m\u001b[0mwhere\u001b[0m\u001b[1;33m(\u001b[0m\u001b[0mkey\u001b[0m\u001b[1;33m)\u001b[0m\u001b[1;33m\u001b[0m\u001b[1;33m\u001b[0m\u001b[0m\n\u001b[0m\u001b[0;32m   3795\u001b[0m \u001b[1;33m\u001b[0m\u001b[0m\n\u001b[0;32m   3796\u001b[0m         \u001b[1;31m# Do we have a (boolean) 1d indexer?\u001b[0m\u001b[1;33m\u001b[0m\u001b[1;33m\u001b[0m\u001b[0m\n\u001b[0;32m   3797\u001b[0m         \u001b[1;32mif\u001b[0m \u001b[0mcom\u001b[0m\u001b[1;33m.\u001b[0m\u001b[0mis_bool_indexer\u001b[0m\u001b[1;33m(\u001b[0m\u001b[0mkey\u001b[0m\u001b[1;33m)\u001b[0m\u001b[1;33m:\u001b[0m\u001b[1;33m\u001b[0m\u001b[1;33m\u001b[0m\u001b[0m\n",
      "\u001b[1;32m~\\anaconda3\\envs\\dojo-env\\lib\\site-packages\\pandas\\util\\_decorators.py\u001b[0m in \u001b[0;36m?\u001b[1;34m(*args, **kwargs)\u001b[0m\n\u001b[0;32m    207\u001b[0m                     )\n\u001b[0;32m    208\u001b[0m                     \u001b[1;32mraise\u001b[0m \u001b[0mTypeError\u001b[0m\u001b[1;33m(\u001b[0m\u001b[0mmsg\u001b[0m\u001b[1;33m)\u001b[0m\u001b[1;33m\u001b[0m\u001b[1;33m\u001b[0m\u001b[0m\n\u001b[0;32m    209\u001b[0m                 \u001b[1;32melse\u001b[0m\u001b[1;33m:\u001b[0m\u001b[1;33m\u001b[0m\u001b[1;33m\u001b[0m\u001b[0m\n\u001b[0;32m    210\u001b[0m                     \u001b[0mkwargs\u001b[0m\u001b[1;33m[\u001b[0m\u001b[0mnew_arg_name\u001b[0m\u001b[1;33m]\u001b[0m \u001b[1;33m=\u001b[0m \u001b[0mnew_arg_value\u001b[0m\u001b[1;33m\u001b[0m\u001b[1;33m\u001b[0m\u001b[0m\n\u001b[1;32m--> 211\u001b[1;33m             \u001b[1;32mreturn\u001b[0m \u001b[0mfunc\u001b[0m\u001b[1;33m(\u001b[0m\u001b[1;33m*\u001b[0m\u001b[0margs\u001b[0m\u001b[1;33m,\u001b[0m \u001b[1;33m**\u001b[0m\u001b[0mkwargs\u001b[0m\u001b[1;33m)\u001b[0m\u001b[1;33m\u001b[0m\u001b[1;33m\u001b[0m\u001b[0m\n\u001b[0m",
      "\u001b[1;32m~\\anaconda3\\envs\\dojo-env\\lib\\site-packages\\pandas\\util\\_decorators.py\u001b[0m in \u001b[0;36m?\u001b[1;34m(*args, **kwargs)\u001b[0m\n\u001b[0;32m    327\u001b[0m                     \u001b[0mmsg\u001b[0m\u001b[1;33m.\u001b[0m\u001b[0mformat\u001b[0m\u001b[1;33m(\u001b[0m\u001b[0marguments\u001b[0m\u001b[1;33m=\u001b[0m\u001b[0m_format_argument_list\u001b[0m\u001b[1;33m(\u001b[0m\u001b[0mallow_args\u001b[0m\u001b[1;33m)\u001b[0m\u001b[1;33m)\u001b[0m\u001b[1;33m,\u001b[0m\u001b[1;33m\u001b[0m\u001b[1;33m\u001b[0m\u001b[0m\n\u001b[0;32m    328\u001b[0m                     \u001b[0mFutureWarning\u001b[0m\u001b[1;33m,\u001b[0m\u001b[1;33m\u001b[0m\u001b[1;33m\u001b[0m\u001b[0m\n\u001b[0;32m    329\u001b[0m                     \u001b[0mstacklevel\u001b[0m\u001b[1;33m=\u001b[0m\u001b[0mfind_stack_level\u001b[0m\u001b[1;33m(\u001b[0m\u001b[1;33m)\u001b[0m\u001b[1;33m,\u001b[0m\u001b[1;33m\u001b[0m\u001b[1;33m\u001b[0m\u001b[0m\n\u001b[0;32m    330\u001b[0m                 )\n\u001b[1;32m--> 331\u001b[1;33m             \u001b[1;32mreturn\u001b[0m \u001b[0mfunc\u001b[0m\u001b[1;33m(\u001b[0m\u001b[1;33m*\u001b[0m\u001b[0margs\u001b[0m\u001b[1;33m,\u001b[0m \u001b[1;33m**\u001b[0m\u001b[0mkwargs\u001b[0m\u001b[1;33m)\u001b[0m\u001b[1;33m\u001b[0m\u001b[1;33m\u001b[0m\u001b[0m\n\u001b[0m",
      "\u001b[1;32m~\\anaconda3\\envs\\dojo-env\\lib\\site-packages\\pandas\\core\\frame.py\u001b[0m in \u001b[0;36m?\u001b[1;34m(self, cond, other, inplace, axis, level, errors, try_cast)\u001b[0m\n\u001b[0;32m  11919\u001b[0m         \u001b[0mlevel\u001b[0m\u001b[1;33m:\u001b[0m \u001b[0mLevel\u001b[0m \u001b[1;33m=\u001b[0m \u001b[1;32mNone\u001b[0m\u001b[1;33m,\u001b[0m\u001b[1;33m\u001b[0m\u001b[1;33m\u001b[0m\u001b[0m\n\u001b[0;32m  11920\u001b[0m         \u001b[0merrors\u001b[0m\u001b[1;33m:\u001b[0m \u001b[0mIgnoreRaise\u001b[0m \u001b[1;33m|\u001b[0m \u001b[0mlib\u001b[0m\u001b[1;33m.\u001b[0m\u001b[0mNoDefault\u001b[0m \u001b[1;33m=\u001b[0m \u001b[1;34m\"raise\"\u001b[0m\u001b[1;33m,\u001b[0m\u001b[1;33m\u001b[0m\u001b[1;33m\u001b[0m\u001b[0m\n\u001b[0;32m  11921\u001b[0m         \u001b[0mtry_cast\u001b[0m\u001b[1;33m:\u001b[0m \u001b[0mbool\u001b[0m \u001b[1;33m|\u001b[0m \u001b[0mlib\u001b[0m\u001b[1;33m.\u001b[0m\u001b[0mNoDefault\u001b[0m \u001b[1;33m=\u001b[0m \u001b[0mlib\u001b[0m\u001b[1;33m.\u001b[0m\u001b[0mno_default\u001b[0m\u001b[1;33m,\u001b[0m\u001b[1;33m\u001b[0m\u001b[1;33m\u001b[0m\u001b[0m\n\u001b[0;32m  11922\u001b[0m     ) -> DataFrame | None:\n\u001b[1;32m> 11923\u001b[1;33m         return super().where(\n\u001b[0m\u001b[0;32m  11924\u001b[0m             \u001b[0mcond\u001b[0m\u001b[1;33m,\u001b[0m\u001b[1;33m\u001b[0m\u001b[1;33m\u001b[0m\u001b[0m\n\u001b[0;32m  11925\u001b[0m             \u001b[0mother\u001b[0m\u001b[1;33m,\u001b[0m\u001b[1;33m\u001b[0m\u001b[1;33m\u001b[0m\u001b[0m\n\u001b[0;32m  11926\u001b[0m             \u001b[0minplace\u001b[0m\u001b[1;33m=\u001b[0m\u001b[0minplace\u001b[0m\u001b[1;33m,\u001b[0m\u001b[1;33m\u001b[0m\u001b[1;33m\u001b[0m\u001b[0m\n",
      "\u001b[1;32m~\\anaconda3\\envs\\dojo-env\\lib\\site-packages\\pandas\\util\\_decorators.py\u001b[0m in \u001b[0;36m?\u001b[1;34m(*args, **kwargs)\u001b[0m\n\u001b[0;32m    207\u001b[0m                     )\n\u001b[0;32m    208\u001b[0m                     \u001b[1;32mraise\u001b[0m \u001b[0mTypeError\u001b[0m\u001b[1;33m(\u001b[0m\u001b[0mmsg\u001b[0m\u001b[1;33m)\u001b[0m\u001b[1;33m\u001b[0m\u001b[1;33m\u001b[0m\u001b[0m\n\u001b[0;32m    209\u001b[0m                 \u001b[1;32melse\u001b[0m\u001b[1;33m:\u001b[0m\u001b[1;33m\u001b[0m\u001b[1;33m\u001b[0m\u001b[0m\n\u001b[0;32m    210\u001b[0m                     \u001b[0mkwargs\u001b[0m\u001b[1;33m[\u001b[0m\u001b[0mnew_arg_name\u001b[0m\u001b[1;33m]\u001b[0m \u001b[1;33m=\u001b[0m \u001b[0mnew_arg_value\u001b[0m\u001b[1;33m\u001b[0m\u001b[1;33m\u001b[0m\u001b[0m\n\u001b[1;32m--> 211\u001b[1;33m             \u001b[1;32mreturn\u001b[0m \u001b[0mfunc\u001b[0m\u001b[1;33m(\u001b[0m\u001b[1;33m*\u001b[0m\u001b[0margs\u001b[0m\u001b[1;33m,\u001b[0m \u001b[1;33m**\u001b[0m\u001b[0mkwargs\u001b[0m\u001b[1;33m)\u001b[0m\u001b[1;33m\u001b[0m\u001b[1;33m\u001b[0m\u001b[0m\n\u001b[0m",
      "\u001b[1;32m~\\anaconda3\\envs\\dojo-env\\lib\\site-packages\\pandas\\util\\_decorators.py\u001b[0m in \u001b[0;36m?\u001b[1;34m(*args, **kwargs)\u001b[0m\n\u001b[0;32m    327\u001b[0m                     \u001b[0mmsg\u001b[0m\u001b[1;33m.\u001b[0m\u001b[0mformat\u001b[0m\u001b[1;33m(\u001b[0m\u001b[0marguments\u001b[0m\u001b[1;33m=\u001b[0m\u001b[0m_format_argument_list\u001b[0m\u001b[1;33m(\u001b[0m\u001b[0mallow_args\u001b[0m\u001b[1;33m)\u001b[0m\u001b[1;33m)\u001b[0m\u001b[1;33m,\u001b[0m\u001b[1;33m\u001b[0m\u001b[1;33m\u001b[0m\u001b[0m\n\u001b[0;32m    328\u001b[0m                     \u001b[0mFutureWarning\u001b[0m\u001b[1;33m,\u001b[0m\u001b[1;33m\u001b[0m\u001b[1;33m\u001b[0m\u001b[0m\n\u001b[0;32m    329\u001b[0m                     \u001b[0mstacklevel\u001b[0m\u001b[1;33m=\u001b[0m\u001b[0mfind_stack_level\u001b[0m\u001b[1;33m(\u001b[0m\u001b[1;33m)\u001b[0m\u001b[1;33m,\u001b[0m\u001b[1;33m\u001b[0m\u001b[1;33m\u001b[0m\u001b[0m\n\u001b[0;32m    330\u001b[0m                 )\n\u001b[1;32m--> 331\u001b[1;33m             \u001b[1;32mreturn\u001b[0m \u001b[0mfunc\u001b[0m\u001b[1;33m(\u001b[0m\u001b[1;33m*\u001b[0m\u001b[0margs\u001b[0m\u001b[1;33m,\u001b[0m \u001b[1;33m**\u001b[0m\u001b[0mkwargs\u001b[0m\u001b[1;33m)\u001b[0m\u001b[1;33m\u001b[0m\u001b[1;33m\u001b[0m\u001b[0m\n\u001b[0m",
      "\u001b[1;32m~\\anaconda3\\envs\\dojo-env\\lib\\site-packages\\pandas\\core\\generic.py\u001b[0m in \u001b[0;36m?\u001b[1;34m(self, cond, other, inplace, axis, level, errors, try_cast)\u001b[0m\n\u001b[0;32m   9964\u001b[0m                 \u001b[0mFutureWarning\u001b[0m\u001b[1;33m,\u001b[0m\u001b[1;33m\u001b[0m\u001b[1;33m\u001b[0m\u001b[0m\n\u001b[0;32m   9965\u001b[0m                 \u001b[0mstacklevel\u001b[0m\u001b[1;33m=\u001b[0m\u001b[0mfind_stack_level\u001b[0m\u001b[1;33m(\u001b[0m\u001b[1;33m)\u001b[0m\u001b[1;33m,\u001b[0m\u001b[1;33m\u001b[0m\u001b[1;33m\u001b[0m\u001b[0m\n\u001b[0;32m   9966\u001b[0m             )\n\u001b[0;32m   9967\u001b[0m \u001b[1;33m\u001b[0m\u001b[0m\n\u001b[1;32m-> 9968\u001b[1;33m         \u001b[1;32mreturn\u001b[0m \u001b[0mself\u001b[0m\u001b[1;33m.\u001b[0m\u001b[0m_where\u001b[0m\u001b[1;33m(\u001b[0m\u001b[0mcond\u001b[0m\u001b[1;33m,\u001b[0m \u001b[0mother\u001b[0m\u001b[1;33m,\u001b[0m \u001b[0minplace\u001b[0m\u001b[1;33m,\u001b[0m \u001b[0maxis\u001b[0m\u001b[1;33m,\u001b[0m \u001b[0mlevel\u001b[0m\u001b[1;33m)\u001b[0m\u001b[1;33m\u001b[0m\u001b[1;33m\u001b[0m\u001b[0m\n\u001b[0m",
      "\u001b[1;32m~\\anaconda3\\envs\\dojo-env\\lib\\site-packages\\pandas\\core\\generic.py\u001b[0m in \u001b[0;36m?\u001b[1;34m(self, cond, other, inplace, axis, level)\u001b[0m\n\u001b[0;32m   9653\u001b[0m                     \u001b[1;32mraise\u001b[0m \u001b[0mValueError\u001b[0m\u001b[1;33m(\u001b[0m\u001b[0mmsg\u001b[0m\u001b[1;33m.\u001b[0m\u001b[0mformat\u001b[0m\u001b[1;33m(\u001b[0m\u001b[0mdtype\u001b[0m\u001b[1;33m=\u001b[0m\u001b[0mcond\u001b[0m\u001b[1;33m.\u001b[0m\u001b[0mdtype\u001b[0m\u001b[1;33m)\u001b[0m\u001b[1;33m)\u001b[0m\u001b[1;33m\u001b[0m\u001b[1;33m\u001b[0m\u001b[0m\n\u001b[0;32m   9654\u001b[0m             \u001b[1;32melse\u001b[0m\u001b[1;33m:\u001b[0m\u001b[1;33m\u001b[0m\u001b[1;33m\u001b[0m\u001b[0m\n\u001b[0;32m   9655\u001b[0m                 \u001b[1;32mfor\u001b[0m \u001b[0mdt\u001b[0m \u001b[1;32min\u001b[0m \u001b[0mcond\u001b[0m\u001b[1;33m.\u001b[0m\u001b[0mdtypes\u001b[0m\u001b[1;33m:\u001b[0m\u001b[1;33m\u001b[0m\u001b[1;33m\u001b[0m\u001b[0m\n\u001b[0;32m   9656\u001b[0m                     \u001b[1;32mif\u001b[0m \u001b[1;32mnot\u001b[0m \u001b[0mis_bool_dtype\u001b[0m\u001b[1;33m(\u001b[0m\u001b[0mdt\u001b[0m\u001b[1;33m)\u001b[0m\u001b[1;33m:\u001b[0m\u001b[1;33m\u001b[0m\u001b[1;33m\u001b[0m\u001b[0m\n\u001b[1;32m-> 9657\u001b[1;33m                         \u001b[1;32mraise\u001b[0m \u001b[0mValueError\u001b[0m\u001b[1;33m(\u001b[0m\u001b[0mmsg\u001b[0m\u001b[1;33m.\u001b[0m\u001b[0mformat\u001b[0m\u001b[1;33m(\u001b[0m\u001b[0mdtype\u001b[0m\u001b[1;33m=\u001b[0m\u001b[0mdt\u001b[0m\u001b[1;33m)\u001b[0m\u001b[1;33m)\u001b[0m\u001b[1;33m\u001b[0m\u001b[1;33m\u001b[0m\u001b[0m\n\u001b[0m\u001b[0;32m   9658\u001b[0m         \u001b[1;32melse\u001b[0m\u001b[1;33m:\u001b[0m\u001b[1;33m\u001b[0m\u001b[1;33m\u001b[0m\u001b[0m\n\u001b[0;32m   9659\u001b[0m             \u001b[1;31m# GH#21947 we have an empty DataFrame/Series, could be object-dtype\u001b[0m\u001b[1;33m\u001b[0m\u001b[1;33m\u001b[0m\u001b[0m\n\u001b[0;32m   9660\u001b[0m             \u001b[0mcond\u001b[0m \u001b[1;33m=\u001b[0m \u001b[0mcond\u001b[0m\u001b[1;33m.\u001b[0m\u001b[0mastype\u001b[0m\u001b[1;33m(\u001b[0m\u001b[0mbool\u001b[0m\u001b[1;33m)\u001b[0m\u001b[1;33m\u001b[0m\u001b[1;33m\u001b[0m\u001b[0m\n",
      "\u001b[1;31mValueError\u001b[0m: Boolean array expected for the condition, not int64"
     ]
    }
   ],
   "source": [
    "df2[num_cols].isnull().sum()"
   ]
  },
  {
   "cell_type": "code",
   "execution_count": null,
   "id": "1e415f33-e943-431f-9c9e-7a8e3ad505e2",
   "metadata": {},
   "outputs": [],
   "source": []
  },
  {
   "cell_type": "code",
   "execution_count": null,
   "id": "8cc3a099-65fa-4f12-af5b-007f8d0ad133",
   "metadata": {},
   "outputs": [],
   "source": []
  },
  {
   "cell_type": "code",
   "execution_count": null,
   "id": "7529b432-957b-4606-9b3a-6d3b821b1378",
   "metadata": {},
   "outputs": [],
   "source": []
  },
  {
   "cell_type": "code",
   "execution_count": null,
   "id": "a9d5835c-d105-4e1a-bfe6-af71db82c449",
   "metadata": {},
   "outputs": [],
   "source": []
  },
  {
   "cell_type": "code",
   "execution_count": null,
   "id": "ae722119-0600-4639-8bc2-632966829f7d",
   "metadata": {},
   "outputs": [],
   "source": []
  },
  {
   "cell_type": "code",
   "execution_count": null,
   "id": "e0654d87-0303-49e1-8684-92cef50253cf",
   "metadata": {},
   "outputs": [],
   "source": []
  },
  {
   "cell_type": "code",
   "execution_count": null,
   "id": "4fa7f61c-8177-4710-96a1-aa1e7d736643",
   "metadata": {},
   "outputs": [],
   "source": []
  }
 ],
 "metadata": {
  "kernelspec": {
   "display_name": "Python (dojo-env)",
   "language": "python",
   "name": "dojo-env"
  },
  "language_info": {
   "codemirror_mode": {
    "name": "ipython",
    "version": 3
   },
   "file_extension": ".py",
   "mimetype": "text/x-python",
   "name": "python",
   "nbconvert_exporter": "python",
   "pygments_lexer": "ipython3",
   "version": "3.10.10"
  },
  "widgets": {
   "application/vnd.jupyter.widget-state+json": {
    "state": {},
    "version_major": 2,
    "version_minor": 0
   }
  }
 },
 "nbformat": 4,
 "nbformat_minor": 5
}
